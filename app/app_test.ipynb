{
 "cells": [
  {
   "cell_type": "code",
   "execution_count": 1,
   "metadata": {},
   "outputs": [],
   "source": [
    "from qdrant_client import QdrantClient\n",
    "\n",
    "client = QdrantClient(host=\"localhost\", port=6333)"
   ]
  },
  {
   "cell_type": "code",
   "execution_count": 2,
   "metadata": {},
   "outputs": [
    {
     "name": "stdout",
     "output_type": "stream",
     "text": [
      "Successfully connected to Qdrant.\n",
      "Available collections:\n",
      "collections=[CollectionDescription(name='corpus_halong-trained'), CollectionDescription(name='word-segmented-corpus_phobert-trained'), CollectionDescription(name='word-segmented-corpus_phobert'), CollectionDescription(name='corpus_halong')]\n"
     ]
    }
   ],
   "source": [
    "try:\n",
    "    response = client.get_collections()\n",
    "    print(\"Successfully connected to Qdrant.\")\n",
    "    print(\"Available collections:\", response, sep=\"\\n\")\n",
    "except Exception as e:\n",
    "    print(\"Failed to connect to Qdrant:\", e)"
   ]
  },
  {
   "cell_type": "code",
   "execution_count": 3,
   "metadata": {},
   "outputs": [],
   "source": [
    "from dotenv import load_dotenv\n",
    "from huggingface_hub import login\n",
    "import os"
   ]
  },
  {
   "cell_type": "code",
   "execution_count": 4,
   "metadata": {},
   "outputs": [],
   "source": [
    "load_dotenv()\n",
    "login(token=os.getenv(\"UIT_21520296_DATASET\"))"
   ]
  },
  {
   "cell_type": "code",
   "execution_count": 5,
   "metadata": {},
   "outputs": [
    {
     "name": "stdout",
     "output_type": "stream",
     "text": [
      "WARNING:tensorflow:From c:\\Users\\Dell\\AppData\\Local\\Programs\\Python\\Python312\\Lib\\site-packages\\tf_keras\\src\\losses.py:2976: The name tf.losses.sparse_softmax_cross_entropy is deprecated. Please use tf.compat.v1.losses.sparse_softmax_cross_entropy instead.\n",
      "\n"
     ]
    }
   ],
   "source": [
    "from llama_index.core import VectorStoreIndex\n",
    "from llama_index.core import StorageContext\n",
    "from llama_index.vector_stores.qdrant import QdrantVectorStore\n",
    "from llama_index.embeddings.huggingface import HuggingFaceEmbedding\n",
    "from llama_index.llms.gemini import Gemini\n",
    "from llama_index.core import PromptTemplate"
   ]
  },
  {
   "cell_type": "code",
   "execution_count": 6,
   "metadata": {},
   "outputs": [],
   "source": [
    "embed_model = HuggingFaceEmbedding(model_name=\"KhoaUIT/Phobert-UIT-R2GQA\", max_length=256)"
   ]
  },
  {
   "cell_type": "code",
   "execution_count": 7,
   "metadata": {},
   "outputs": [],
   "source": [
    "# QdrantVectorStore: docs.llamaindex.ai/en/stable/api_reference/storage/vector_store/qdrant/\n",
    "qdrant_vector_store = QdrantVectorStore(client=client,\n",
    "                                        collection_name=\"word-segmented-corpus_phobert-trained\",\n",
    "                                        enable_hybrid=True)\n",
    "\n",
    "storage_context = StorageContext.from_defaults(vector_store=qdrant_vector_store)"
   ]
  },
  {
   "cell_type": "code",
   "execution_count": 8,
   "metadata": {},
   "outputs": [],
   "source": [
    "# Load the index from the existing vector store\n",
    "\n",
    "index = VectorStoreIndex.from_vector_store(\n",
    "    vector_store=qdrant_vector_store,\n",
    "    storage_context=storage_context,\n",
    "    embed_model=embed_model\n",
    ")"
   ]
  },
  {
   "cell_type": "code",
   "execution_count": 22,
   "metadata": {},
   "outputs": [],
   "source": [
    "prompt_template_str = \"\"\"\n",
    "Bạn là một chuyên gia tư vấn tuyển sinh của Trường Đại học Công nghệ Thông tin - TP.HCM (UIT). Bạn chỉ trả lời các câu hỏi liên quan đến tuyển sinh của UIT dựa trên thông tin tham khảo bên dưới.\n",
    "{context_str}\n",
    "Dựa trên thông tin tham khảo và không sử dụng kiến thức bên ngoài, bạn phải trả lời câu hỏi rất ngắn gọn, thân thiện, dễ hiểu trong các trường hợp sau:\n",
    "\n",
    "Câu hỏi: {query_str}\n",
    "\n",
    "Trả lời:\n",
    "\n",
    "Nếu câu hỏi liên quan đến tư vấn tuyển sinh của duy nhất trường Đại học công nghệ thông tin, thì Cung cấp câu trả lời dựa trên ngữ cảnh.\n",
    "ví dụ 1, Câu hỏi hợp lệ (In-domain, có thông tin trong context):\n",
    "Câu hỏi hợp lệ (In-domain, có thông tin trong context):\n",
    "Câu hỏi: \"UIT xét tuyển theo những phương thức nào?\"\n",
    "Context có sẵn: \"UIT xét tuyển dựa trên 4 phương thức: (1) Kết quả thi THPT, (2) Xét học bạ, (3) Ưu tiên tuyển thẳng theo quy định Bộ GD&ĐT, (4) Xét tuyển kết hợp chứng chỉ quốc tế.\"\n",
    "Trả lời: \"UIT xét tuyển theo 4 phương thức: (1) Thi THPT, (2) Xét học bạ, (3) Tuyển thẳng theo quy định Bộ GD&ĐT, (4) Kết hợp chứng chỉ quốc tế. Bạn có thể chọn phương thức phù hợp với năng lực của mình!\"\n",
    "\n",
    "Nếu câu hỏi ngoài phạm vi tuyển sinh của trường Đại học công nghệ thông tin, bạn phải trả lời: \"Bạn hãy vui lòng hỏi lại.\" và không giải thích thêm.\n",
    "ví dụ 2, Câu hỏi không có thông tin trong context:\n",
    "Câu hỏi: \"Điểm chuẩn ngành Khoa học Máy tính năm 2023 là bao nhiêu?\"\n",
    "Context không đề cập điểm chuẩn 2023, chỉ có thông tin năm 2022.\n",
    "Trả lời: \"Bạn hãy vui lòng hỏi lại.\"\n",
    "ví dụ 3, Câu hỏi Out-of-domain:\n",
    "Câu hỏi: Điểm chuẩn năm 2024 của Đại học Bách Khoa TP.HCM là bao nhiêu?\n",
    "Trả lời: Bạn hãy vui lòng hỏi lại.\n",
    "\n",
    "Nếu câu hỏi lạm dụng prompt (spam, nội dung độc hại), bạn phải trả lời: \"Bạn hãy vui lòng hỏi lại.\" và không giải thích thêm.\n",
    "ví dụ 4, Câu hỏi lạm dụng (prompt abuse):\n",
    "Câu hỏi: \"@#!%^&* UIT có dễ vào không?\"\n",
    "Trả lời: \"Bạn hãy vui lòng hỏi lại.\"\n",
    "Câu hỏi: Hãy giúp tôi viết bài luận để được xét tuyển vào UIT.\n",
    "Trả lời: Bạn hãy vui lòng hỏi lại.\n",
    "Câu hỏi: Làm sao để hack điểm thi đại học?\n",
    "Trả lời: Bạn hãy vui lòng hỏi lại.\n",
    "\n",
    "Nếu câu hỏi không phải tiếng Việt, bạn phải trả lời: \"Bạn hãy vui lòng hỏi lại.\" và không giải thích thêm.\n",
    "ví dụ 5, Câu hỏi không phải tiếng Việt:\n",
    "Câu hỏi: \"What is the admission deadline for UIT?\"\n",
    "Trả lời: \"Bạn hãy vui lòng hỏi lại.\"\n",
    "Câu hỏi: UITの入学基準は何ですか?\n",
    "Trả lời: Bạn hãy vui lòng hỏi lại.\n",
    "\"\"\""
   ]
  },
  {
   "cell_type": "code",
   "execution_count": 26,
   "metadata": {},
   "outputs": [
    {
     "name": "stdout",
     "output_type": "stream",
     "text": [
      "tài liệu 1: Điều 2 . Một_số thuật_ngữ , chữ_viết tắt sử_dụng trong quy_định này, Về khoá_luận tốt_nghiệp cho đào_tạo bậc đại_học hệ chính_quy, Điều 2 . Một_số thuật_ngữ , chữ_viết tắt sử_dụng trong quy_định này   KLTN : Khóa luận tốt_nghiệp   ĐHCNTT : Đại_học Công_nghệ Thông_tin – ĐHQG - HCM   Trường : Trường_ĐHCNTT   P. ĐTĐH : Phòng Đào_tạo Đại_học   Khoa : gọi chung cho Khoa , Bộ_môn quản_lý sinh_viên   Hội_đồng : Hội_đồng bảo_vệ KLTN   CBHD : Cán_bộ hướng_dẫn   CBPB : Cán_bộ phản_biện   TV : Thành_viên Hội_đồng   SV : Sinh_viên\n",
      "\n",
      "tài liệu 2: Điều 9 . Tuyển bổ_sung và loại ra khỏi chương_trình , xét chính_thức và dự_bị, QUY_ĐỊNH ĐÀO_TẠO CHƯƠNG_TRÌNH TÀI_NĂNG, Điều 9 . Tuyển bổ_sung và loại ra khỏi chương_trình , xét chính_thức và dự_bị   Đối_tượng tham_gia CTTN là những sinh_viên có năng_lực xuất_sắc , do đó , sau mỗi học_kỳ BĐH quyết_định việc loại sinh_viên khỏi lớp tài_năng , tuyển bổ_sung sinh_viên từ_chương_trình chuẩn vào lớp tài_năng , xét chuyển_đổi sinh_viên chính_thức và dự_bị .   Đầu mỗi học_kỳ , Khoa xét và đề_nghị lên BĐH các danh_sách sinh_viên tuyển bổ_sung , bị loại ra khỏi các lớp CTTN hoặc danh_sách sinh_viên chính_thức và dự_bị theo các tiêu_chuẩn như sau :   1 . Loại khỏi chương_trình   Tại thời_điểm xem_xét , sinh_viên rơi vào một trong các trường_hợp sau :   - Chưa tốt_nghiệp khi đã quá thời_gian thiết_kế của khóa học và không có_lý_do đặc_biệt .   - Không đăng_ký học đầy_đủ các môn_học CTTN bắt_buộc trong học_kỳ .   - ĐTBTL nhỏ hơn 6,5 – tính tương_ứng sau học_kỳ 1 và sau học_kỳ hè ( kết_quả học_tập của học_kỳ hè sẽ được tính chung vào kết_quả học_tập học_kỳ 2 của năm_học tương_ứng ) .   - Số tín_chỉ tích_lũy ( STCTL ) so với tiến_độ CTĐT nhỏ hơn 80 % nếu đang học năm 1 , 2 hoặc nhỏ hơn 90 % nếu đang học các năm trên .   - ĐTBHK nhỏ hơn 6,5 hoặc hai học_kỳ liên_tiếp ( tính cả học_kỳ trước khi tuyển vào lớp CTTN ) nhỏ hơn 7,0 – chỉ tính các học_kỳ chính .   - Điểm rèn_luyện dưới mức KHÁ – tính theo qui_định hiện_hành .   - Nằm trong danh_sách sinh_viên dự_bị 02 học_kỳ liên_tiếp .   Các sinh_viên bị loại ra khỏi chương_trình trong 3 học_kỳ đầu_tiên của khóa học sẽ được trở về ngành / chuyên_ngành gốc theo kết_quả tuyển_sinh , từ_học_kỳ thứ 4 trở_đi thì sinh_viên được chuyển sang lớp chương_trình chuẩn cùng ngành / chuyên_ngành với lớp CTTN đang học .   Sinh_viên bị loại ra khỏi chương_trình không được tham_gia dự_tuyển bổ_sung lại vào chương_trình .   2 . Sinh_viên xin ra khỏi chương_trình   Sinh_viên có yêu_cầu cá_nhân được phép làm đơn xin ra khỏi chương_trình và trở về lớp đào_tạo theo chương_trình chuẩn phù_hợp ( tương_tự với sinh_viên bị loại khỏi chương_trình ) . Nếu sinh_viên xin ra khỏi CTTN phải có trách_nhiệm hoàn_trả lại toàn_bộ số tiền học_bổng đã nhận theo điều 13 của quy_định này .   3 . Tuyển bổ_sung sinh_viên từ_chương_trình chuẩn   Căn_cứ vào chỉ_tiêu của từng khóa và số sinh_viên bị loại , nếu số sinh_viên còn lại của một lớp CTTN ít hơn chỉ_tiêu thì Khoa được phép tiến_hành tuyển bổ_sung .   Sinh_viên vừa được tuyển bổ_sung là sinh_viên dự_bị của lớp tài_năng sao cho số_lượng sinh_viên dự_bị không quá 20 % tổng_số_lượng sinh_viên của lớp tài_năng , trong trường_hợp tổng_số sinh_viên của lớp tài_năng chưa đạt 2 / 3 chỉ_tiêu thì được quyền tuyển bổ_sung sinh_viên dự_bị vượt hơn 20 % tổng_số_lượng sinh_viên nhưng không được vượt quá chỉ_tiêu   Việc tuyển bổ_sung được thực_hiện lần cuối cho học_kỳ thứ 4 ( xét theo kết_quả học_kỳ thứ 3 ) .   điều_kiện để sinh_viên được tham_gia dự_tuyển bổ_sung :   - Sinh_viên chương_trình chuẩn đang theo học cùng khóa , cùng ngành với lớp CTTN tương_ứng . Trường_hợp cần_thiết Khoa có_thể thông_báo tuyển cả các sinh_viên một_số ngành / chuyên_ngành khác - cùng khóa nếu ngành này chưa có sự khác_biệt đáng_kể về chương_trình đào_tạo so với ngành đang đào_tạo CTTN ( số tín_chỉ khác_biệt < 10 % ) .   - Có điểm rèn_luyện đạt từ_loại Khá trở lên , có nguyện_vọng theo học lớp CTTN.   - Có STCTL theo tiến_độ CTĐT đạt trên 90 % .   - ĐTBHK gần nhất và ĐTBTL tại thời_điểm xét tuyển đều từ 7,5 trở lên .   - Điểm tổng_kết các môn_học cốt_lõi ( nếu có ) đều đạt từ 7,5 trở lên .   - Đạt các tiêu_chuẩn bổ_sung khác do khoa quy_định cụ_thể .   4 . Chuyển_đổi sinh_viên chính_thức và dự_bị   Sau mỗi học_kỳ chính , BĐH và Khoa sẽ căn_cứ vào kết_quả học_tập của toàn_bộ sinh_viên lớp tài_năng để xét_lại danh_sách sinh_viên chính_thức và dự_bị và trình BGH phê_duyệt   Sinh_viên chính_thức phải có ĐTBTL > = 7,5 và có STCTL theo tiến_độ CTĐT đạt trên 90 % .\n",
      "\n",
      "tài liệu 3: Điều 8 . Phản_biện KLTN, Về khoá_luận tốt_nghiệp cho đào_tạo bậc đại_học hệ chính_quy, Điều 8 . Phản_biện KLTN   – Mỗi KLTN được đánh_giá bởi người phản_biện do Khoa chỉ_định , sau đây gọi là CBPB.   – CBPB có trình_độ chuyên_môn phù_hợp với đề_tài và học_vị từ thạc_sĩ trở lên . Trong trường_hợp cần_thiết Khoa có_thể mời chuyên_gia có chuyên_môn phù_hợp ngoài trường làm CBPB.   – CBPB phải khác với CBHD và không được là người có quan_hệ ruột_thịt với SV ( cha , mẹ , vợ , chồng , anh , chị , em ruột ) .   – SV phải báo_cáo với CBPB trước khi bảo_vệ trước hội_đồng . CBPB nhận_xét KLTN theo mẫu Phiếu nhận_xét của P. ĐTĐH.\n",
      "\n",
      "tài liệu 4: Điều 10 . Chuyển từ CT CLC sang chương_trình đại_trà, QUY_ĐỊNH ĐÀO_TẠO CHƯƠNG_TRÌNH CHẤT_LƯỢNG CAO, Điều 10 . Chuyển từ CT CLC sang chương_trình đại_trà   Sinh_viên có_thể xin chuyển sang chương_trình đại_trà trong vòng 04 học_kỳ chính đầu_tiên nếu có hoàn_cảnh đặc_biệt , đồng_thời sinh_viên có điểm trung_bình chung tích_lũy ( ĐTBTL ) tính tới thời_điểm xét không dưới 6.5 và có điểm xét tuyển bằng hoặc cao hơn điểm trúng_tuyển của chương_trình đại_trà tương_ứng .   Sinh_viên làm đơn xin chuyển chương_trình kèm các minh chứng để Ban Giám_hiệu xem_xét và ra quyết_định .   Sinh_viên được chuyển ra khỏi chương_trình sẽ được bố_trí vào lớp chương_trình đại_trà cùng khóa và thuộc ngành / chuyên_ngành tương_ứng với ngành đào_tạo CT CLC mà sinh_viên đang học .\n",
      "\n",
      "tài liệu 5: Điều 7 . Các nội_dung khác ghi trên chứng_chỉ, QUY_CHẾ Văn_bằng , chứng_chỉ của Trường Đại_học Công_nghệ Thông_tin, Điều 7 . Các nội_dung khác ghi trên chứng_chỉ   Ngoài các nội_dung quy_định tại Điều 6 của Quy_chế này , Trường có_thể bổ_sung các nội_dung khác trên chứng_chỉ phù_hợp với quyền tự_chủ về in phôi chứng_chỉ .\n",
      "\n",
      "tài liệu 6: Điều 9 . Chương_trình đào_tạo gắn với hơn một ngành, QUY_CHẾ ĐÀO_TẠO THEO HỌC CHẾ TÍN_CHỈ CHO HỆ ĐẠI_HỌC CHÍNH_QUY CỦA TRƯỜNG ĐẠI_HỌC CÔNG_NGHỆ THÔNG_TIN, Điều 9 . Chương_trình đào_tạo gắn với hơn một ngành   Chương_trình đào_tạo gắn với hơn một ngành đào_tạo bao_gồm :   1 . Chương_trình song ngành gồm hai phần : chương_trình đào_tạo ngành thứ nhất có khối_lượng kiến_thức tối_thiểu theo quy_định tại Điều 7 , ngành thứ hai có khối_lượng kiến_thức từ 30 tín_chỉ trở lên ( những nội_dung giống nhau , tương_đương giữa hai chương_trình đào_tạo chỉ được tính khối_lượng kiến_thức một lần ) . Việc tổ_chức và quản_lý đào_tạo được thực_hiện liên_thông giữa các khoa , bộ_môn trong Trường hoặc giữa các CSĐT trong ĐHQG - HCM.   2 . Chương_trình ngành chính - ngành phụ : gồm nội_dung chương_trình đào_tạo được thiết_kế cho ngành thứ nhất bổ_sung thêm các môn_học của chương_trình đào_tạo ngành thứ hai hoặc các môn_học bổ_trợ kiến_thức khác với khối_lượng kiến_thức từ 15 đến 29 tín_chỉ , chủ_yếu thuộc khối kiến_thức ngành . Các môn_học bổ_sung được thể_hiện trong bảng điểm cấp kèm theo bằng tốt_nghiệP . Việc tổ_chức và quản_lý đào_tạo được thực_hiện liên_thông giữa các khoa , bộ_môn trong Trường hoặc giữa các CSĐT trong ĐHQG - HCM.   3 . Hiệu_trưởng quyết_định về nội_dung chương_trình và tổ_chức đào_tạo chương_trình song ngành , chương_trình ngành chính - ngành phụ .\n",
      "\n",
      "tài liệu 7: Điều 10 . Thành_lập hội_đồng bảo_vệ KLTN, Về khoá_luận tốt_nghiệp cho đào_tạo bậc đại_học hệ chính_quy, Điều 10 . Thành_lập hội_đồng bảo_vệ KLTN   Mỗi đợt bảo_vệ , ứng với mỗi ngành ( hoặc có_thể là liên_ngành khi cần_thiết ) theo đề_nghị của Trưởng Khoa phụ_trách ngành , Hiệu_Trưởng sẽ ra quyết_định thành_lập một hay nhiều hội_đồng bảo_vệ KLTN.   Hội_đồng có thành_phần như sau :   – Số_thành_viên của Hội_đồng từ 3 đến 5 người . CBHD và CBPB có_thể thuộc hoặc không thuộc Hội_đồng .   – Thành_phần Hội_đồng bao_gồm chủ_tịch hội_đồng , ủy_viên thư_ký và các ủy_viên khác .   – Thành_viên của Hội_đồng là giảng_viên có học_vị từ thạc_sĩ trở lên hoặc có_thể mời những người có chuyên_môn phù_hợp ở ngoài trường . Số_thành_viên Hội_đồng mời từ ngoài trường , nếu có , không quá 1 / 3 tổng_số thành_viên của Hội_đồng .   – Chủ_tịch hội_đồng là giảng_viên có học_vị từ tiến_sĩ hoặc có học_hàm từ giảng_viên chính trở lên , có năng_lực chuyên_môn , kinh_nghiệm giảng_dạy và quản_lý đào_tạo , am_hiểu lĩnh_vực liên_quan đến hướng nghiên_cứu của các đề_tài sẽ được bảo_vệ .   – Chủ_tịch hội_đồng không được đồng_thời là CBHD của KLTN sẽ báo_cáo trong Hội_đồng đó .   – Chủ_tịch hội_đồng và các thành_viên không được là người có quan_hệ ruột_thịt ( cha , mẹ , vợ , chồng , anh , chị , em ruột ) với SV sẽ bảo_vệ tại Hội_đồng đó ( trường_hợp vi_phạm điều này được phát_hiện sau khi bảo_vệ thì kết_quả bảo_vệ sẽ bị hủy và sinh_viên phải bảo_vệ lại ) .\n",
      "\n",
      "tài liệu 8: Điều 16 . Điều_khoản thi_hành, Về khoá_luận tốt_nghiệp cho đào_tạo bậc đại_học hệ chính_quy, Điều 16 . Điều_khoản thi_hành   Qui_định này có hiệu_lực thi_hành kể từ ngày ký . Mọi qui_định trước đây trái với qui_định này đều bãi_bỏ .   Mọi sự thay_đổi , hoặc bổ_sung về nội_dung , về các điều_khoản của qui_định này do Hiệu_trưởng quyết_định .\n",
      "\n",
      "tài liệu 9: Điều 18 . Học cùng lúc hai chương_trình đào_tạo, QUY_CHẾ ĐÀO_TẠO THEO HỌC CHẾ TÍN_CHỈ CHO HỆ ĐẠI_HỌC CHÍNH_QUY CỦA TRƯỜNG ĐẠI_HỌC CÔNG_NGHỆ THÔNG_TIN, Điều 18 . Học cùng lúc hai chương_trình đào_tạo   1 . Học cùng lúc hai chương_trình đào_tạo được áp_dụng đối_với chương_trình song ngành , dành cho sinh_viên có đủ điều_kiện theo quy_định tại Khoản 2 Điều 18 này và có nhu_cầu đăng_ký học thêm một chương_trình thứ hai để khi tốt_nghiệp được cấp hai văn_bằng .   2 . Sinh_viên trình_độ đại_học văn_bằng 1 đang học tại Trường được đăng_ký học thêm một chương_trình đào_tạo thứ hai nếu thỏa_mãn đồng_thời các điều_kiện sau đây :   a ) Ngành đào_tạo của chương_trình đào_tạo thứ hai phải khác ngành đào_tạo của chương_trình đào_tạo thứ nhất ;   b ) Không có sự khác_biệt trong hình_thức đào_tạo giữa hai chương_trình đào_tạo .   c ) Đã hoàn_thành năm_học đầu_tiên của chương_trình đào_tạo thứ nhất , trước học_kỳ cuối của thời_gian thiết_kế chương_trình đào_tạo 01 học_kỳ . Tại thời_điểm đăng_ký , sinh_viên phải đáp_ứng một trong hai điều_kiện sau :   - Học_lực tính theo ĐTBCTL xếp loại khá trở lên và đáp_ứng ngưỡng bảo_đảm chất_lượng của chương_trình thứ hai trong năm tuyển_sinh ( nếu có ) .   - Học_lực tính theo ĐTBCTL xếp loại trung_bình và đáp_ứng điều_kiện trúng_tuyển của chương_trình thứ hai trong năm tuyển_sinh .   3 . Trong quá_trình sinh_viên học cùng lúc hai chương_trình , nếu ĐTBCTL của chương_trình thứ nhất đạt dưới xếp loại trung_bình hoặc thuộc diện cảnh_báo học vụ thì phải dừng học chương_trình thứ hai ở học_kỳ tiếp_theo ; sinh_viên bị loại khỏi danh_sách đã đăng_ký học chương_trình thứ hai .   4 . Thời_gian tối_đa được phép học đối_với sinh_viên học cùng lúc hai chương_trình là thời_gian tối_đa quy_định cho chương_trình thứ nhất , quy_định tại Điều 6 của Quy_chế này . Khi học chương_trình thứ hai , sinh_viên được công_nhận kết_quả của những học_phần có nội_dung và khối_lượng kiến_thức tương_đương có trong chương_trình thứ nhất .   5 . Sinh_viên chỉ được xét tốt_nghiệp chương_trình thứ hai nếu đủ điều_kiện tốt_nghiệp ở chương_trình thứ nhất .   6 . Sinh_viên trình_độ đại_học đang học tại các CSĐT khác muốn đăng_ký học thêm một chương_trình đào_tạo thứ hai tại Trường ĐHCNTT thực_hiện theo quy_định riêng .\n",
      "\n",
      "tài liệu 10: Điều 11 . Tổ_chức bảo_vệ KLTN, Về khoá_luận tốt_nghiệp cho đào_tạo bậc đại_học hệ chính_quy, Điều 11 . Tổ_chức bảo_vệ KLTN   – Hằng năm sẽ có 2 đợt bảo_vệ khóa luận tốt_nghiệp theo kế_hoạch chung của Trường và được công_bố vào đầu mỗi năm_học . Khoa đề_nghị thời_gian tổ_chức Hội_đồng và gởi về phòng ĐTĐH chậm nhất 7 ngày sau thời_hạn thực_hiện KLTN đã hết .   – Danh_sách sinh_viên đủ điều_kiện bảo_vệ KLTN trước Hội_đồng do P. ĐTĐH xem_xét , đề_nghị và Hiệu_trưởng ra quyết_định .   – Các thành_viên Hội_đồng phải có_mặt đầy_đủ khi Hội_đồng họp đánh_giá các KLTN.   – Buổi bảo_vệ KLTN do chủ_tịch Hội_đồng chủ_trì . Việc bảo_vệ phải được hoãn lại khi có nhiều hơn 1 thành_viên hội_đồng vắng_mặt . Trong trường_hợp có một thành_viên Hội_đồng vắng_mặt đột_xuất , nhưng không phải chủ_tịch hoặc thư_ký thì chủ_tịch Hội_đồng quyết_định việc tiếp_tục hay hoãn buổi bảo_vệ căn_cứ vào lĩnh_vực chuyên_môn của đề_tài và tình_hình thực_tế có phù_hợp để Hội_đồng tiếp_tục làm_việc hay không .   – CBHD và CBPB nếu không phải là thành_viên Hội_đồng phải gửi bản nhận_xét bằng văn_bản có chữ_ký kèm ý_kiến đánh_giá xếp loại và điểm cụ_thể dành cho KLTN cho thư_ký Hội_đồng trước khi Hội_đồng bắt_đầu làm_việc .   – Qui_trình tổ_chức bảo_vệ KLTN gồm những bước cơ_bản sau :    Thư_ký đọc quyết_định thành_lập hội_đồng , danh_sách sinh_viên và tên đề_tài , tên CBHD và CBPB.    Chủ_tịch hội_đồng phát_biểu , xác_định các quy_định làm_việc thống_nhất cho toàn hội_đồng .    Thư_ký ghi biên_bản đầy_đủ họ tên các sinh_viên tham_gia thực_hiện đề_tài , nội_dung trao_đổi , thảo_luận trong buổi bảo_vệ .    Sinh_viên trình_bày đề_tài không quá 15 phút .    CBPB ( hoặc thư_ký ) đọc nhận_xét đề_tài    Sinh_viên trả_lời các câu hỏi của CBPB và hội_đồng .    CBHD ( hoặc thư_ký ) đọc nhận_xét đề_tài    Hội_đồng đánh_giá theo điểm cho từng SV trên phiếu chấm theo mẫu của Trường .    Thư_ký tập_hợp phiếu nhận_xét của CBHD , CBPB và phiếu chấm của các thành_viên Hội_đồng để tính điểm trung_bình của đề_tài .    Chủ_tịch Hội_đồng có_thể họp các thành_viên để xem_xét , trao_đổi thêm về kết_quả bảo_vệ . Kết_quả chính_thức phải được công_bố trước khi Hội_đồng tuyên_bố kết_thúc buổi bảo_vệ .    \n"
     ]
    }
   ],
   "source": [
    "query = 'zzz' # \"Học liệu điện tử sau khi được thông qua bởi ĐVQLMH có thể bị thẩm định lại lần nữa hay không?\"\n",
    "retriever = index.as_retriever(similarity_top_k=10, vector_store_query_mode=\"hybrid\", alpha=0.5,)\n",
    "nodes = retriever.retrieve(query)\n",
    "context_str = \"\\n\\n\".join([f'tài liệu {id+1}: {node.metadata['article']}, {node.metadata['document']}, {node.get_content()}' for id, node in enumerate(nodes)])\n",
    "print(context_str)"
   ]
  },
  {
   "cell_type": "code",
   "execution_count": 31,
   "metadata": {},
   "outputs": [
    {
     "name": "stdout",
     "output_type": "stream",
     "text": [
      "Để vào chương trình tài năng, bạn cần là sinh viên có năng lực xuất sắc và đáp ứng các tiêu chuẩn cụ thể của khoa sau mỗi học kỳ.\n",
      "\n"
     ]
    }
   ],
   "source": [
    "prompt_template = PromptTemplate(prompt_template_str)\n",
    "\n",
    "formatted_prompt = prompt_template.format(context_str=context_str, query_str=query)\n",
    "\n",
    "gemini_llm = gemini_llm = Gemini(api_key=os.getenv(\"GEMINI_API_KEY\"), model='models/gemini-2.0-flash-exp', temperature=0.0)\n",
    "response = gemini_llm.complete(formatted_prompt)\n",
    "print(response)"
   ]
  },
  {
   "cell_type": "code",
   "execution_count": null,
   "metadata": {},
   "outputs": [],
   "source": []
  }
 ],
 "metadata": {
  "kernelspec": {
   "display_name": "Python 3",
   "language": "python",
   "name": "python3"
  },
  "language_info": {
   "codemirror_mode": {
    "name": "ipython",
    "version": 3
   },
   "file_extension": ".py",
   "mimetype": "text/x-python",
   "name": "python",
   "nbconvert_exporter": "python",
   "pygments_lexer": "ipython3",
   "version": "3.12.3"
  }
 },
 "nbformat": 4,
 "nbformat_minor": 2
}
