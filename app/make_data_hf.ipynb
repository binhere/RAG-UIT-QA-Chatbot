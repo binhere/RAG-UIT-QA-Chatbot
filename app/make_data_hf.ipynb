{
 "cells": [
  {
   "cell_type": "code",
   "execution_count": 1,
   "metadata": {},
   "outputs": [],
   "source": [
    "from datasets import Dataset, DatasetDict\n",
    "from pyvi import ViTokenizer\n",
    "import pandas as pd\n",
    "import numpy as np\n",
    "import random\n",
    "import re"
   ]
  },
  {
   "cell_type": "code",
   "execution_count": 2,
   "metadata": {},
   "outputs": [],
   "source": [
    "from dotenv import load_dotenv\n",
    "from huggingface_hub import login\n",
    "import os"
   ]
  },
  {
   "cell_type": "code",
   "execution_count": 3,
   "metadata": {},
   "outputs": [],
   "source": [
    "load_dotenv()\n",
    "login(token=os.getenv(\"UIT_21520296_DATASET\"))"
   ]
  },
  {
   "cell_type": "markdown",
   "metadata": {},
   "source": [
    "# helper functions"
   ]
  },
  {
   "cell_type": "code",
   "execution_count": 4,
   "metadata": {},
   "outputs": [],
   "source": [
    "def preprocess_with_segmentation (element):\n",
    "    # Replace newlines, tabs, and redundant spaces with a single space\n",
    "    processed_element = re.sub(r'[\\n\\t\\s]+', ' ', element)\n",
    "    \n",
    "    # Strip leading and trailing spaces\n",
    "    processed_element = processed_element.strip()\n",
    "    \n",
    "    # Tokenize the text using ViTokenizer\n",
    "    segmented_element = ViTokenizer.tokenize(processed_element)\n",
    "    \n",
    "    return segmented_element"
   ]
  },
  {
   "cell_type": "code",
   "execution_count": 5,
   "metadata": {},
   "outputs": [],
   "source": [
    "def preprocess_no_segmentation(element):\n",
    "    # Replace newlines, tabs, and redundant spaces with a single space\n",
    "    processed_element = re.sub(r'[\\n\\t\\s]+', ' ', element)\n",
    "    \n",
    "    # Strip leading and trailing spaces\n",
    "    processed_element = processed_element.strip()\n",
    "    \n",
    "    return processed_element"
   ]
  },
  {
   "cell_type": "code",
   "execution_count": 6,
   "metadata": {},
   "outputs": [],
   "source": [
    "def make_pair_class_dataset(df):\n",
    "    pair_class_data = []\n",
    "\n",
    "    # Convert all contexts to a set for faster lookup and uniqueness\n",
    "    all_contexts = set(df[\"context\"].tolist())\n",
    "\n",
    "    for _, row in df.iterrows():\n",
    "        pair_class_data.append({\"question\": row[\"question\"], \"context\": row[\"context\"], \"label\": 1})  # Positive sample\n",
    "\n",
    "        # Get a negative sample (context that is different from the current one)\n",
    "        possible_negatives = [ctx for ctx in all_contexts if ctx != row[\"context\"]]\n",
    "        \n",
    "        if possible_negatives:  # Ensure we have valid negative samples\n",
    "            negative_context = random.choice(possible_negatives)\n",
    "            pair_class_data.append({\"question\": row[\"question\"], \"context\": negative_context, \"label\": 0})\n",
    "\n",
    "    return Dataset.from_pandas(pd.DataFrame(pair_class_data))\n"
   ]
  },
  {
   "cell_type": "code",
   "execution_count": 7,
   "metadata": {},
   "outputs": [],
   "source": [
    "def make_triplet_dataset(df):\n",
    "    triplet_data = []\n",
    "    all_contexts = set(df[\"context\"].tolist())  # Convert to set for faster lookup\n",
    "    \n",
    "    for _, row in df.iterrows():\n",
    "        # Get a negative sample (context that is different from the current one)\n",
    "        possible_negatives = [ctx for ctx in all_contexts if ctx != row[\"context\"]]\n",
    "        \n",
    "        if possible_negatives:  # Ensure negative samples are available\n",
    "            negative_context = random.choice(possible_negatives)\n",
    "            triplet_data.append({\n",
    "                \"anchor\": row[\"question\"], \n",
    "                \"positive\": row[\"context\"], \n",
    "                \"negative\": negative_context\n",
    "            })\n",
    "    \n",
    "    return Dataset.from_pandas(pd.DataFrame(triplet_data))"
   ]
  },
  {
   "cell_type": "markdown",
   "metadata": {},
   "source": [
    "# create datasets\n"
   ]
  },
  {
   "cell_type": "code",
   "execution_count": 8,
   "metadata": {},
   "outputs": [],
   "source": [
    "columns_to_drop = ['index', 'article', 'document', 'extractive answer', 'abstractive answer', 'yes/no']"
   ]
  },
  {
   "cell_type": "markdown",
   "metadata": {},
   "source": [
    "## word-segmented format "
   ]
  },
  {
   "cell_type": "markdown",
   "metadata": {},
   "source": [
    "**1. training set**"
   ]
  },
  {
   "cell_type": "code",
   "execution_count": 91,
   "metadata": {},
   "outputs": [
    {
     "data": {
      "text/html": [
       "<div>\n",
       "<style scoped>\n",
       "    .dataframe tbody tr th:only-of-type {\n",
       "        vertical-align: middle;\n",
       "    }\n",
       "\n",
       "    .dataframe tbody tr th {\n",
       "        vertical-align: top;\n",
       "    }\n",
       "\n",
       "    .dataframe thead th {\n",
       "        text-align: right;\n",
       "    }\n",
       "</style>\n",
       "<table border=\"1\" class=\"dataframe\">\n",
       "  <thead>\n",
       "    <tr style=\"text-align: right;\">\n",
       "      <th></th>\n",
       "      <th>index</th>\n",
       "      <th>context</th>\n",
       "      <th>article</th>\n",
       "      <th>document</th>\n",
       "      <th>question</th>\n",
       "      <th>extractive answer</th>\n",
       "      <th>abstractive answer</th>\n",
       "      <th>yes/no</th>\n",
       "    </tr>\n",
       "  </thead>\n",
       "  <tbody>\n",
       "    <tr>\n",
       "      <th>0</th>\n",
       "      <td>8276</td>\n",
       "      <td>Điều  9.\\tTuyển bổ sung và loại ra khỏi chương...</td>\n",
       "      <td>Điều 9. Tuyển bổ sung và loại ra khỏi chương t...</td>\n",
       "      <td>QUY ĐỊNH ĐÀO TẠO CHƯƠNG TRÌNH TÀI NĂNG</td>\n",
       "      <td>Sinh viên dự bị không trở thành sinh viên chín...</td>\n",
       "      <td>02 học kỳ liên tiếp</td>\n",
       "      <td>Sinh viên dự bị không trở thành sinh viên chín...</td>\n",
       "      <td>NaN</td>\n",
       "    </tr>\n",
       "    <tr>\n",
       "      <th>1</th>\n",
       "      <td>8543</td>\n",
       "      <td>Điều  4.        Kiểm tra xếp lớp đầu khóa cho ...</td>\n",
       "      <td>Điều 4. Kiểm tra xếp lớp đầu khóa cho sinh viê...</td>\n",
       "      <td>QUY ĐỊNH ĐÀO TẠO NGOẠI NGỮ ĐỐI VỚI HỆ ĐẠI HỌC ...</td>\n",
       "      <td>Các mức điểm xếp lớp tiếng Anh được Hiệu trưởn...</td>\n",
       "      <td>theo đề xuất hợp lý của bộ phận chuyên môn</td>\n",
       "      <td>Các mức điểm xếp lớp tiếng Anh được Hiệu trưởn...</td>\n",
       "      <td>NaN</td>\n",
       "    </tr>\n",
       "    <tr>\n",
       "      <th>2</th>\n",
       "      <td>7152</td>\n",
       "      <td>Điều  5.        Chương trình đào tạo\\nCT CLC đ...</td>\n",
       "      <td>Điều 5. Chương trình đào tạo</td>\n",
       "      <td>QUY ĐỊNH ĐÀO TẠO CHƯƠNG TRÌNH CHẤT LƯỢNG CAO</td>\n",
       "      <td>Trình độ tiếng Nhật đạt N mấy mới thì sinh viê...</td>\n",
       "      <td>N3</td>\n",
       "      <td>Sinh viên CT CLC phải đạt tiếng Nhật N3 thì mớ...</td>\n",
       "      <td>NaN</td>\n",
       "    </tr>\n",
       "    <tr>\n",
       "      <th>3</th>\n",
       "      <td>2218</td>\n",
       "      <td>Điều  25. Cách tính điểm trung bình\\n1.   ĐTBH...</td>\n",
       "      <td>Điều 25. Cách tính điểm trung bình</td>\n",
       "      <td>QUY CHẾ ĐÀO TẠO THEO HỌC CHẾ TÍN CHỈ CHO HỆ ĐẠ...</td>\n",
       "      <td>Cách tính điểm giữa điểm trung bình học kỳ, đi...</td>\n",
       "      <td>ĐTBHK, ĐTBC và ĐTBCTL được tính theo công thức</td>\n",
       "      <td>Cách tính ĐTBHK, ĐTBC và ĐTBCTL được tính theo...</td>\n",
       "      <td>1.0</td>\n",
       "    </tr>\n",
       "    <tr>\n",
       "      <th>4</th>\n",
       "      <td>5361</td>\n",
       "      <td>Điều  19. Tổ chức phúc khảo và giải quyết khiế...</td>\n",
       "      <td>Điều 19. Tổ chức phúc khảo và giải quyết khiếu...</td>\n",
       "      <td>QUY ĐỊNH Tổ chức thi các môn học hệ đại học ch...</td>\n",
       "      <td>Hoạt động nào sẽ diễn ra khi SV có khiếu nại v...</td>\n",
       "      <td>phúc khảo</td>\n",
       "      <td>Trường sẽ tổ chức phúc khảo và giải quyết khiế...</td>\n",
       "      <td>NaN</td>\n",
       "    </tr>\n",
       "  </tbody>\n",
       "</table>\n",
       "</div>"
      ],
      "text/plain": [
       "   index                                            context  \\\n",
       "0   8276  Điều  9.\\tTuyển bổ sung và loại ra khỏi chương...   \n",
       "1   8543  Điều  4.        Kiểm tra xếp lớp đầu khóa cho ...   \n",
       "2   7152  Điều  5.        Chương trình đào tạo\\nCT CLC đ...   \n",
       "3   2218  Điều  25. Cách tính điểm trung bình\\n1.   ĐTBH...   \n",
       "4   5361  Điều  19. Tổ chức phúc khảo và giải quyết khiế...   \n",
       "\n",
       "                                             article  \\\n",
       "0  Điều 9. Tuyển bổ sung và loại ra khỏi chương t...   \n",
       "1  Điều 4. Kiểm tra xếp lớp đầu khóa cho sinh viê...   \n",
       "2                       Điều 5. Chương trình đào tạo   \n",
       "3                 Điều 25. Cách tính điểm trung bình   \n",
       "4  Điều 19. Tổ chức phúc khảo và giải quyết khiếu...   \n",
       "\n",
       "                                            document  \\\n",
       "0             QUY ĐỊNH ĐÀO TẠO CHƯƠNG TRÌNH TÀI NĂNG   \n",
       "1  QUY ĐỊNH ĐÀO TẠO NGOẠI NGỮ ĐỐI VỚI HỆ ĐẠI HỌC ...   \n",
       "2       QUY ĐỊNH ĐÀO TẠO CHƯƠNG TRÌNH CHẤT LƯỢNG CAO   \n",
       "3  QUY CHẾ ĐÀO TẠO THEO HỌC CHẾ TÍN CHỈ CHO HỆ ĐẠ...   \n",
       "4  QUY ĐỊNH Tổ chức thi các môn học hệ đại học ch...   \n",
       "\n",
       "                                            question  \\\n",
       "0  Sinh viên dự bị không trở thành sinh viên chín...   \n",
       "1  Các mức điểm xếp lớp tiếng Anh được Hiệu trưởn...   \n",
       "2  Trình độ tiếng Nhật đạt N mấy mới thì sinh viê...   \n",
       "3  Cách tính điểm giữa điểm trung bình học kỳ, đi...   \n",
       "4  Hoạt động nào sẽ diễn ra khi SV có khiếu nại v...   \n",
       "\n",
       "                                extractive answer  \\\n",
       "0                             02 học kỳ liên tiếp   \n",
       "1      theo đề xuất hợp lý của bộ phận chuyên môn   \n",
       "2                                              N3   \n",
       "3  ĐTBHK, ĐTBC và ĐTBCTL được tính theo công thức   \n",
       "4                                       phúc khảo   \n",
       "\n",
       "                                  abstractive answer  yes/no  \n",
       "0  Sinh viên dự bị không trở thành sinh viên chín...     NaN  \n",
       "1  Các mức điểm xếp lớp tiếng Anh được Hiệu trưởn...     NaN  \n",
       "2  Sinh viên CT CLC phải đạt tiếng Nhật N3 thì mớ...     NaN  \n",
       "3  Cách tính ĐTBHK, ĐTBC và ĐTBCTL được tính theo...     1.0  \n",
       "4  Trường sẽ tổ chức phúc khảo và giải quyết khiế...     NaN  "
      ]
     },
     "execution_count": 91,
     "metadata": {},
     "output_type": "execute_result"
    }
   ],
   "source": [
    "df_train = pd.read_csv(\"[R2GQA]-data-full/train.csv\")\n",
    "df_train.head()"
   ]
  },
  {
   "cell_type": "code",
   "execution_count": 92,
   "metadata": {},
   "outputs": [
    {
     "name": "stdout",
     "output_type": "stream",
     "text": [
      "(7806, 2)\n"
     ]
    },
    {
     "data": {
      "text/html": [
       "<div>\n",
       "<style scoped>\n",
       "    .dataframe tbody tr th:only-of-type {\n",
       "        vertical-align: middle;\n",
       "    }\n",
       "\n",
       "    .dataframe tbody tr th {\n",
       "        vertical-align: top;\n",
       "    }\n",
       "\n",
       "    .dataframe thead th {\n",
       "        text-align: right;\n",
       "    }\n",
       "</style>\n",
       "<table border=\"1\" class=\"dataframe\">\n",
       "  <thead>\n",
       "    <tr style=\"text-align: right;\">\n",
       "      <th></th>\n",
       "      <th>context</th>\n",
       "      <th>question</th>\n",
       "    </tr>\n",
       "  </thead>\n",
       "  <tbody>\n",
       "    <tr>\n",
       "      <th>0</th>\n",
       "      <td>Điều  9.\\tTuyển bổ sung và loại ra khỏi chương...</td>\n",
       "      <td>Sinh viên dự bị không trở thành sinh viên chín...</td>\n",
       "    </tr>\n",
       "    <tr>\n",
       "      <th>1</th>\n",
       "      <td>Điều  4.        Kiểm tra xếp lớp đầu khóa cho ...</td>\n",
       "      <td>Các mức điểm xếp lớp tiếng Anh được Hiệu trưởn...</td>\n",
       "    </tr>\n",
       "    <tr>\n",
       "      <th>2</th>\n",
       "      <td>Điều  5.        Chương trình đào tạo\\nCT CLC đ...</td>\n",
       "      <td>Trình độ tiếng Nhật đạt N mấy mới thì sinh viê...</td>\n",
       "    </tr>\n",
       "    <tr>\n",
       "      <th>3</th>\n",
       "      <td>Điều  25. Cách tính điểm trung bình\\n1.   ĐTBH...</td>\n",
       "      <td>Cách tính điểm giữa điểm trung bình học kỳ, đi...</td>\n",
       "    </tr>\n",
       "    <tr>\n",
       "      <th>4</th>\n",
       "      <td>Điều  19. Tổ chức phúc khảo và giải quyết khiế...</td>\n",
       "      <td>Hoạt động nào sẽ diễn ra khi SV có khiếu nại v...</td>\n",
       "    </tr>\n",
       "  </tbody>\n",
       "</table>\n",
       "</div>"
      ],
      "text/plain": [
       "                                             context  \\\n",
       "0  Điều  9.\\tTuyển bổ sung và loại ra khỏi chương...   \n",
       "1  Điều  4.        Kiểm tra xếp lớp đầu khóa cho ...   \n",
       "2  Điều  5.        Chương trình đào tạo\\nCT CLC đ...   \n",
       "3  Điều  25. Cách tính điểm trung bình\\n1.   ĐTBH...   \n",
       "4  Điều  19. Tổ chức phúc khảo và giải quyết khiế...   \n",
       "\n",
       "                                            question  \n",
       "0  Sinh viên dự bị không trở thành sinh viên chín...  \n",
       "1  Các mức điểm xếp lớp tiếng Anh được Hiệu trưởn...  \n",
       "2  Trình độ tiếng Nhật đạt N mấy mới thì sinh viê...  \n",
       "3  Cách tính điểm giữa điểm trung bình học kỳ, đi...  \n",
       "4  Hoạt động nào sẽ diễn ra khi SV có khiếu nại v...  "
      ]
     },
     "execution_count": 92,
     "metadata": {},
     "output_type": "execute_result"
    }
   ],
   "source": [
    "df_train.drop(columns=columns_to_drop, inplace=True)\n",
    "print(df_train.shape)\n",
    "df_train.head()"
   ]
  },
  {
   "cell_type": "code",
   "execution_count": 93,
   "metadata": {},
   "outputs": [
    {
     "data": {
      "text/html": [
       "<div>\n",
       "<style scoped>\n",
       "    .dataframe tbody tr th:only-of-type {\n",
       "        vertical-align: middle;\n",
       "    }\n",
       "\n",
       "    .dataframe tbody tr th {\n",
       "        vertical-align: top;\n",
       "    }\n",
       "\n",
       "    .dataframe thead th {\n",
       "        text-align: right;\n",
       "    }\n",
       "</style>\n",
       "<table border=\"1\" class=\"dataframe\">\n",
       "  <thead>\n",
       "    <tr style=\"text-align: right;\">\n",
       "      <th></th>\n",
       "      <th>context</th>\n",
       "      <th>question</th>\n",
       "    </tr>\n",
       "  </thead>\n",
       "  <tbody>\n",
       "    <tr>\n",
       "      <th>0</th>\n",
       "      <td>Điều 9 . Tuyển bổ_sung và loại ra khỏi chương_...</td>\n",
       "      <td>Sinh_viên dự_bị không trở_thành sinh_viên chín...</td>\n",
       "    </tr>\n",
       "    <tr>\n",
       "      <th>1</th>\n",
       "      <td>Điều 4 . Kiểm_tra xếp lớp đầu khóa cho sinh_vi...</td>\n",
       "      <td>Các mức điểm xếp lớp tiếng Anh được Hiệu_trưởn...</td>\n",
       "    </tr>\n",
       "    <tr>\n",
       "      <th>2</th>\n",
       "      <td>Điều 5 . Chương_trình đào_tạo CT CLC được xây_...</td>\n",
       "      <td>Trình_độ tiếng Nhật đạt N mấy mới thì sinh_viê...</td>\n",
       "    </tr>\n",
       "    <tr>\n",
       "      <th>3</th>\n",
       "      <td>Điều 25 . Cách tính điểm trung_bình 1 . ĐTBHK ...</td>\n",
       "      <td>Cách tính điểm giữa điểm trung_bình học_kỳ , đ...</td>\n",
       "    </tr>\n",
       "    <tr>\n",
       "      <th>4</th>\n",
       "      <td>Điều 19 . Tổ_chức phúc_khảo và giải_quyết khiế...</td>\n",
       "      <td>Hoạt_động nào sẽ diễn ra khi SV có khiếu_nại v...</td>\n",
       "    </tr>\n",
       "  </tbody>\n",
       "</table>\n",
       "</div>"
      ],
      "text/plain": [
       "                                             context  \\\n",
       "0  Điều 9 . Tuyển bổ_sung và loại ra khỏi chương_...   \n",
       "1  Điều 4 . Kiểm_tra xếp lớp đầu khóa cho sinh_vi...   \n",
       "2  Điều 5 . Chương_trình đào_tạo CT CLC được xây_...   \n",
       "3  Điều 25 . Cách tính điểm trung_bình 1 . ĐTBHK ...   \n",
       "4  Điều 19 . Tổ_chức phúc_khảo và giải_quyết khiế...   \n",
       "\n",
       "                                            question  \n",
       "0  Sinh_viên dự_bị không trở_thành sinh_viên chín...  \n",
       "1  Các mức điểm xếp lớp tiếng Anh được Hiệu_trưởn...  \n",
       "2  Trình_độ tiếng Nhật đạt N mấy mới thì sinh_viê...  \n",
       "3  Cách tính điểm giữa điểm trung_bình học_kỳ , đ...  \n",
       "4  Hoạt_động nào sẽ diễn ra khi SV có khiếu_nại v...  "
      ]
     },
     "execution_count": 93,
     "metadata": {},
     "output_type": "execute_result"
    }
   ],
   "source": [
    "df_train = df_train.map(func=preprocess_with_segmentation)\n",
    "df_train.head()"
   ]
  },
  {
   "cell_type": "markdown",
   "metadata": {},
   "source": [
    "**2. validation set**"
   ]
  },
  {
   "cell_type": "code",
   "execution_count": 94,
   "metadata": {},
   "outputs": [
    {
     "name": "stdout",
     "output_type": "stream",
     "text": [
      "(976, 2)\n"
     ]
    },
    {
     "data": {
      "text/html": [
       "<div>\n",
       "<style scoped>\n",
       "    .dataframe tbody tr th:only-of-type {\n",
       "        vertical-align: middle;\n",
       "    }\n",
       "\n",
       "    .dataframe tbody tr th {\n",
       "        vertical-align: top;\n",
       "    }\n",
       "\n",
       "    .dataframe thead th {\n",
       "        text-align: right;\n",
       "    }\n",
       "</style>\n",
       "<table border=\"1\" class=\"dataframe\">\n",
       "  <thead>\n",
       "    <tr style=\"text-align: right;\">\n",
       "      <th></th>\n",
       "      <th>context</th>\n",
       "      <th>question</th>\n",
       "    </tr>\n",
       "  </thead>\n",
       "  <tbody>\n",
       "    <tr>\n",
       "      <th>0</th>\n",
       "      <td>Điều 16 . Xử_lý học vụ Xử_lý học vụ nhằm giúp ...</td>\n",
       "      <td>Sinh_viên chưa hết thời_gian tối_đa hoàn_thành...</td>\n",
       "    </tr>\n",
       "    <tr>\n",
       "      <th>1</th>\n",
       "      <td>Điều 32 . Chấm thực_tập , khóa luận tốt_nghiệp...</td>\n",
       "      <td>Điểm của khoá_luận tính theo thang điểm mấy ?</td>\n",
       "    </tr>\n",
       "    <tr>\n",
       "      <th>2</th>\n",
       "      <td>Điều 11 . Đào_tạo ngoại_ngữ - Vào đầu khóa học...</td>\n",
       "      <td>Vào đầu mỗi khóa học_sinh_viên CT CLC cần phải...</td>\n",
       "    </tr>\n",
       "    <tr>\n",
       "      <th>3</th>\n",
       "      <td>Điều 9 . Văn_bằng , chứng_chỉ / chứng_nhận đượ...</td>\n",
       "      <td>Tại_sao sinh_viên cần nộp chứng_chỉ cho Trường ?</td>\n",
       "    </tr>\n",
       "    <tr>\n",
       "      <th>4</th>\n",
       "      <td>Điều 1 . Phạm_vi điều_chỉnh và đối_tượng áp_dụ...</td>\n",
       "      <td>Văn_bằng giáo_dục đại_học , sau đại_học và các...</td>\n",
       "    </tr>\n",
       "  </tbody>\n",
       "</table>\n",
       "</div>"
      ],
      "text/plain": [
       "                                             context  \\\n",
       "0  Điều 16 . Xử_lý học vụ Xử_lý học vụ nhằm giúp ...   \n",
       "1  Điều 32 . Chấm thực_tập , khóa luận tốt_nghiệp...   \n",
       "2  Điều 11 . Đào_tạo ngoại_ngữ - Vào đầu khóa học...   \n",
       "3  Điều 9 . Văn_bằng , chứng_chỉ / chứng_nhận đượ...   \n",
       "4  Điều 1 . Phạm_vi điều_chỉnh và đối_tượng áp_dụ...   \n",
       "\n",
       "                                            question  \n",
       "0  Sinh_viên chưa hết thời_gian tối_đa hoàn_thành...  \n",
       "1      Điểm của khoá_luận tính theo thang điểm mấy ?  \n",
       "2  Vào đầu mỗi khóa học_sinh_viên CT CLC cần phải...  \n",
       "3   Tại_sao sinh_viên cần nộp chứng_chỉ cho Trường ?  \n",
       "4  Văn_bằng giáo_dục đại_học , sau đại_học và các...  "
      ]
     },
     "execution_count": 94,
     "metadata": {},
     "output_type": "execute_result"
    }
   ],
   "source": [
    "df_valid = pd.read_csv(\"[R2GQA]-data-full/val.csv\")\n",
    "df_valid.drop(columns=columns_to_drop, inplace=True)\n",
    "df_valid = df_valid.map(func=preprocess_with_segmentation)\n",
    "\n",
    "print(df_valid.shape)\n",
    "df_valid.head()"
   ]
  },
  {
   "cell_type": "markdown",
   "metadata": {},
   "source": [
    "**3. testing set**"
   ]
  },
  {
   "cell_type": "code",
   "execution_count": 95,
   "metadata": {},
   "outputs": [
    {
     "name": "stdout",
     "output_type": "stream",
     "text": [
      "(976, 2)\n"
     ]
    },
    {
     "data": {
      "text/html": [
       "<div>\n",
       "<style scoped>\n",
       "    .dataframe tbody tr th:only-of-type {\n",
       "        vertical-align: middle;\n",
       "    }\n",
       "\n",
       "    .dataframe tbody tr th {\n",
       "        vertical-align: top;\n",
       "    }\n",
       "\n",
       "    .dataframe thead th {\n",
       "        text-align: right;\n",
       "    }\n",
       "</style>\n",
       "<table border=\"1\" class=\"dataframe\">\n",
       "  <thead>\n",
       "    <tr style=\"text-align: right;\">\n",
       "      <th></th>\n",
       "      <th>context</th>\n",
       "      <th>question</th>\n",
       "    </tr>\n",
       "  </thead>\n",
       "  <tbody>\n",
       "    <tr>\n",
       "      <th>0</th>\n",
       "      <td>Điều 8 . Xây_dựng , thẩm_định học liệu điện_tử...</td>\n",
       "      <td>Học_liệu điện_tử sau khi được thông_qua bởi ĐV...</td>\n",
       "    </tr>\n",
       "    <tr>\n",
       "      <th>1</th>\n",
       "      <td>Điều 20 . Hồ_sơ , trình_tự , thủ_tục chỉnh_sửa...</td>\n",
       "      <td>Có_thể nộp bản_sao giấy khai_sinh cho hồ_sơ đề...</td>\n",
       "    </tr>\n",
       "    <tr>\n",
       "      <th>2</th>\n",
       "      <td>Điều 23 . Điểm Miễn 1 . Điểm BL - Sinh_viên đã...</td>\n",
       "      <td>Quy_định về điểm M trong trường_hợp sinh_viên ...</td>\n",
       "    </tr>\n",
       "    <tr>\n",
       "      <th>3</th>\n",
       "      <td>Điều 4 . Xét_duyệt đề_tài KLTN Khoa chịu trách...</td>\n",
       "      <td>Yêu_cầu đối_với học_vị của CBHD hướng_dẫn KLTN...</td>\n",
       "    </tr>\n",
       "    <tr>\n",
       "      <th>4</th>\n",
       "      <td>Điều 11 . Quy_trình chuẩn_bị cho kỳ thi 1 . Đầ...</td>\n",
       "      <td>Công_việc phân_công_cán_bộ coi thi có nội_dung...</td>\n",
       "    </tr>\n",
       "  </tbody>\n",
       "</table>\n",
       "</div>"
      ],
      "text/plain": [
       "                                             context  \\\n",
       "0  Điều 8 . Xây_dựng , thẩm_định học liệu điện_tử...   \n",
       "1  Điều 20 . Hồ_sơ , trình_tự , thủ_tục chỉnh_sửa...   \n",
       "2  Điều 23 . Điểm Miễn 1 . Điểm BL - Sinh_viên đã...   \n",
       "3  Điều 4 . Xét_duyệt đề_tài KLTN Khoa chịu trách...   \n",
       "4  Điều 11 . Quy_trình chuẩn_bị cho kỳ thi 1 . Đầ...   \n",
       "\n",
       "                                            question  \n",
       "0  Học_liệu điện_tử sau khi được thông_qua bởi ĐV...  \n",
       "1  Có_thể nộp bản_sao giấy khai_sinh cho hồ_sơ đề...  \n",
       "2  Quy_định về điểm M trong trường_hợp sinh_viên ...  \n",
       "3  Yêu_cầu đối_với học_vị của CBHD hướng_dẫn KLTN...  \n",
       "4  Công_việc phân_công_cán_bộ coi thi có nội_dung...  "
      ]
     },
     "execution_count": 95,
     "metadata": {},
     "output_type": "execute_result"
    }
   ],
   "source": [
    "df_test = pd.read_csv(\"[R2GQA]-data-full/test.csv\")\n",
    "df_test.drop(columns=columns_to_drop, inplace=True)\n",
    "df_test = df_test.map(func=preprocess_with_segmentation)\n",
    "\n",
    "print(df_test.shape)\n",
    "df_test.head()"
   ]
  },
  {
   "cell_type": "code",
   "execution_count": 97,
   "metadata": {},
   "outputs": [
    {
     "name": "stdout",
     "output_type": "stream",
     "text": [
      "DatasetDict({\n",
      "    train: Dataset({\n",
      "        features: ['question', 'context', 'label'],\n",
      "        num_rows: 15612\n",
      "    })\n",
      "    valid: Dataset({\n",
      "        features: ['question', 'context', 'label'],\n",
      "        num_rows: 1952\n",
      "    })\n",
      "    test: Dataset({\n",
      "        features: ['question', 'context', 'label'],\n",
      "        num_rows: 1952\n",
      "    })\n",
      "})\n"
     ]
    },
    {
     "data": {
      "text/plain": [
       "({'question': 'Sinh_viên dự_bị không trở_thành sinh_viên chính_thức bao_nhiêu học_kỳ sẽ bị loại khỏi CTTN ?',\n",
       "  'context': 'Điều 9 . Tuyển bổ_sung và loại ra khỏi chương_trình , xét chính_thức và dự_bị Đối_tượng tham_gia CTTN là những sinh_viên có năng_lực xuất_sắc , do đó , sau mỗi học_kỳ BĐH quyết_định việc loại sinh_viên khỏi lớp tài_năng , tuyển bổ_sung sinh_viên từ_chương_trình chuẩn vào lớp tài_năng , xét chuyển_đổi sinh_viên chính_thức và dự_bị . Đầu mỗi học_kỳ , Khoa xét và đề_nghị lên BĐH các danh_sách sinh_viên tuyển bổ_sung , bị loại ra khỏi các lớp CTTN hoặc danh_sách sinh_viên chính_thức và dự_bị theo các tiêu_chuẩn như sau : 1 . Loại khỏi chương_trình Tại thời_điểm xem_xét , sinh_viên rơi vào một trong các trường_hợp sau : - Chưa tốt_nghiệp khi đã quá thời_gian thiết_kế của khóa học và không có_lý_do đặc_biệt . - Không đăng_ký học đầy_đủ các môn_học CTTN bắt_buộc trong học_kỳ . - ĐTBTL nhỏ hơn 6,5 – tính tương_ứng sau học_kỳ 1 và sau học_kỳ hè ( kết_quả học_tập của học_kỳ hè sẽ được tính chung vào kết_quả học_tập học_kỳ 2 của năm_học tương_ứng ) . - Số tín_chỉ tích_lũy ( STCTL ) so với tiến_độ CTĐT nhỏ hơn 80 % nếu đang học năm 1 , 2 hoặc nhỏ hơn 90 % nếu đang học các năm trên . - ĐTBHK nhỏ hơn 6,5 hoặc hai học_kỳ liên_tiếp ( tính cả học_kỳ trước khi tuyển vào lớp CTTN ) nhỏ hơn 7,0 – chỉ tính các học_kỳ chính . - Điểm rèn_luyện dưới mức KHÁ – tính theo qui_định hiện_hành . - Nằm trong danh_sách sinh_viên dự_bị 02 học_kỳ liên_tiếp . Các sinh_viên bị loại ra khỏi chương_trình trong 3 học_kỳ đầu_tiên của khóa học sẽ được trở về ngành / chuyên_ngành gốc theo kết_quả tuyển_sinh , từ_học_kỳ thứ 4 trở_đi thì sinh_viên được chuyển sang lớp chương_trình chuẩn cùng ngành / chuyên_ngành với lớp CTTN đang học . Sinh_viên bị loại ra khỏi chương_trình không được tham_gia dự_tuyển bổ_sung lại vào chương_trình . 2 . Sinh_viên xin ra khỏi chương_trình Sinh_viên có yêu_cầu cá_nhân được phép làm đơn xin ra khỏi chương_trình và trở về lớp đào_tạo theo chương_trình chuẩn phù_hợp ( tương_tự với sinh_viên bị loại khỏi chương_trình ) . Nếu sinh_viên xin ra khỏi CTTN phải có trách_nhiệm hoàn_trả lại toàn_bộ số tiền học_bổng đã nhận theo điều 13 của quy_định này . 3 . Tuyển bổ_sung sinh_viên từ_chương_trình chuẩn Căn_cứ vào chỉ_tiêu của từng khóa và số sinh_viên bị loại , nếu số sinh_viên còn lại của một lớp CTTN ít hơn chỉ_tiêu thì Khoa được phép tiến_hành tuyển bổ_sung . Sinh_viên vừa được tuyển bổ_sung là sinh_viên dự_bị của lớp tài_năng sao cho số_lượng sinh_viên dự_bị không quá 20 % tổng_số_lượng sinh_viên của lớp tài_năng , trong trường_hợp tổng_số sinh_viên của lớp tài_năng chưa đạt 2 / 3 chỉ_tiêu thì được quyền tuyển bổ_sung sinh_viên dự_bị vượt hơn 20 % tổng_số_lượng sinh_viên nhưng không được vượt quá chỉ_tiêu Việc tuyển bổ_sung được thực_hiện lần cuối cho học_kỳ thứ 4 ( xét theo kết_quả học_kỳ thứ 3 ) . điều_kiện để sinh_viên được tham_gia dự_tuyển bổ_sung : - Sinh_viên chương_trình chuẩn đang theo học cùng khóa , cùng ngành với lớp CTTN tương_ứng . Trường_hợp cần_thiết Khoa có_thể thông_báo tuyển cả các sinh_viên một_số ngành / chuyên_ngành khác - cùng khóa nếu ngành này chưa có sự khác_biệt đáng_kể về chương_trình đào_tạo so với ngành đang đào_tạo CTTN ( số tín_chỉ khác_biệt < 10 % ) . - Có điểm rèn_luyện đạt từ_loại Khá trở lên , có nguyện_vọng theo học lớp CTTN. - Có STCTL theo tiến_độ CTĐT đạt trên 90 % . - ĐTBHK gần nhất và ĐTBTL tại thời_điểm xét tuyển đều từ 7,5 trở lên . - Điểm tổng_kết các môn_học cốt_lõi ( nếu có ) đều đạt từ 7,5 trở lên . - Đạt các tiêu_chuẩn bổ_sung khác do khoa quy_định cụ_thể . 4 . Chuyển_đổi sinh_viên chính_thức và dự_bị Sau mỗi học_kỳ chính , BĐH và Khoa sẽ căn_cứ vào kết_quả học_tập của toàn_bộ sinh_viên lớp tài_năng để xét_lại danh_sách sinh_viên chính_thức và dự_bị và trình BGH phê_duyệt Sinh_viên chính_thức phải có ĐTBTL > = 7,5 và có STCTL theo tiến_độ CTĐT đạt trên 90 % .',\n",
       "  'label': 1},\n",
       " {'question': 'Sinh_viên dự_bị không trở_thành sinh_viên chính_thức bao_nhiêu học_kỳ sẽ bị loại khỏi CTTN ?',\n",
       "  'context': 'Điều 1 . Phạm_vi điều_chỉnh và đối_tượng áp_dụng 1 . Văn_bản này quy_định về tuyển_sinh , tổ_chức và quản_lý đào_tạo đối_với chương_trình đào_tạo liên_thông từ trình_độ đại_học lên trình đô thạc_sĩ hệ chính_quy của Trường Đại_học Công_nghệ Thông_tin – ĐHQG - HCM ( sau đây gọi tắt là chương_trình ĐH - ThS ) . 2 . Quy_định này áp_dụng đối_với tổ_chức và cá_nhân có liên_quan đến chương_trình ĐH - ThS.',\n",
       "  'label': 0})"
      ]
     },
     "execution_count": 97,
     "metadata": {},
     "output_type": "execute_result"
    }
   ],
   "source": [
    "pair_class_train = make_pair_class_dataset(df_train)\n",
    "pair_class_valid = make_pair_class_dataset(df_valid)\n",
    "pair_class_test  = make_pair_class_dataset(df_test)\n",
    "\n",
    "pair_class_dataset = DatasetDict({\"train\": pair_class_train, \n",
    "                                  \"valid\": pair_class_valid, \n",
    "                                  \"test\" : pair_class_test\n",
    "                                })\n",
    "\n",
    "print(pair_class_dataset)\n",
    "pair_class_dataset[\"train\"][0], pair_class_dataset[\"train\"][1]"
   ]
  },
  {
   "cell_type": "code",
   "execution_count": 64,
   "metadata": {},
   "outputs": [
    {
     "data": {
      "application/vnd.jupyter.widget-view+json": {
       "model_id": "8e308a6c78e845799ca20f13e3cd4dd8",
       "version_major": 2,
       "version_minor": 0
      },
      "text/plain": [
       "Uploading the dataset shards:   0%|          | 0/1 [00:00<?, ?it/s]"
      ]
     },
     "metadata": {},
     "output_type": "display_data"
    },
    {
     "data": {
      "application/vnd.jupyter.widget-view+json": {
       "model_id": "03774c4fa175436792be077f5586e7dc",
       "version_major": 2,
       "version_minor": 0
      },
      "text/plain": [
       "Creating parquet from Arrow format:   0%|          | 0/16 [00:00<?, ?ba/s]"
      ]
     },
     "metadata": {},
     "output_type": "display_data"
    },
    {
     "data": {
      "application/vnd.jupyter.widget-view+json": {
       "model_id": "7c16877738554e9cada09011cf90a67e",
       "version_major": 2,
       "version_minor": 0
      },
      "text/plain": [
       "Uploading the dataset shards:   0%|          | 0/1 [00:00<?, ?it/s]"
      ]
     },
     "metadata": {},
     "output_type": "display_data"
    },
    {
     "data": {
      "application/vnd.jupyter.widget-view+json": {
       "model_id": "caa9294478ea4043ab400eeaa676f1e9",
       "version_major": 2,
       "version_minor": 0
      },
      "text/plain": [
       "Creating parquet from Arrow format:   0%|          | 0/2 [00:00<?, ?ba/s]"
      ]
     },
     "metadata": {},
     "output_type": "display_data"
    },
    {
     "data": {
      "application/vnd.jupyter.widget-view+json": {
       "model_id": "ebdbe97e8fea417d9b61e0eab66f7ac1",
       "version_major": 2,
       "version_minor": 0
      },
      "text/plain": [
       "Uploading the dataset shards:   0%|          | 0/1 [00:00<?, ?it/s]"
      ]
     },
     "metadata": {},
     "output_type": "display_data"
    },
    {
     "data": {
      "application/vnd.jupyter.widget-view+json": {
       "model_id": "8d90249cf4764c63a42d7bdfe12d1af9",
       "version_major": 2,
       "version_minor": 0
      },
      "text/plain": [
       "Creating parquet from Arrow format:   0%|          | 0/2 [00:00<?, ?ba/s]"
      ]
     },
     "metadata": {},
     "output_type": "display_data"
    },
    {
     "data": {
      "text/plain": [
       "CommitInfo(commit_url='https://huggingface.co/datasets/KhoaUIT/UIT-R2GQA/commit/e6dad4b16a4d4525f8b3b51d4b7c1ab0a0078353', commit_message='Upload dataset', commit_description='', oid='e6dad4b16a4d4525f8b3b51d4b7c1ab0a0078353', pr_url=None, repo_url=RepoUrl('https://huggingface.co/datasets/KhoaUIT/UIT-R2GQA', endpoint='https://huggingface.co', repo_type='dataset', repo_id='KhoaUIT/UIT-R2GQA'), pr_revision=None, pr_num=None)"
      ]
     },
     "execution_count": 64,
     "metadata": {},
     "output_type": "execute_result"
    }
   ],
   "source": [
    "pair_class_dataset.push_to_hub(repo_id='KhoaUIT/UIT-R2GQA', \n",
    "                               config_name='pair-class-segmented')"
   ]
  },
  {
   "cell_type": "code",
   "execution_count": 99,
   "metadata": {},
   "outputs": [
    {
     "name": "stdout",
     "output_type": "stream",
     "text": [
      "DatasetDict({\n",
      "    train: Dataset({\n",
      "        features: ['anchor', 'positive', 'negative'],\n",
      "        num_rows: 7806\n",
      "    })\n",
      "    valid: Dataset({\n",
      "        features: ['anchor', 'positive', 'negative'],\n",
      "        num_rows: 976\n",
      "    })\n",
      "    test: Dataset({\n",
      "        features: ['anchor', 'positive', 'negative'],\n",
      "        num_rows: 976\n",
      "    })\n",
      "})\n"
     ]
    },
    {
     "data": {
      "text/plain": [
       "({'anchor': 'Sinh_viên dự_bị không trở_thành sinh_viên chính_thức bao_nhiêu học_kỳ sẽ bị loại khỏi CTTN ?',\n",
       "  'positive': 'Điều 9 . Tuyển bổ_sung và loại ra khỏi chương_trình , xét chính_thức và dự_bị Đối_tượng tham_gia CTTN là những sinh_viên có năng_lực xuất_sắc , do đó , sau mỗi học_kỳ BĐH quyết_định việc loại sinh_viên khỏi lớp tài_năng , tuyển bổ_sung sinh_viên từ_chương_trình chuẩn vào lớp tài_năng , xét chuyển_đổi sinh_viên chính_thức và dự_bị . Đầu mỗi học_kỳ , Khoa xét và đề_nghị lên BĐH các danh_sách sinh_viên tuyển bổ_sung , bị loại ra khỏi các lớp CTTN hoặc danh_sách sinh_viên chính_thức và dự_bị theo các tiêu_chuẩn như sau : 1 . Loại khỏi chương_trình Tại thời_điểm xem_xét , sinh_viên rơi vào một trong các trường_hợp sau : - Chưa tốt_nghiệp khi đã quá thời_gian thiết_kế của khóa học và không có_lý_do đặc_biệt . - Không đăng_ký học đầy_đủ các môn_học CTTN bắt_buộc trong học_kỳ . - ĐTBTL nhỏ hơn 6,5 – tính tương_ứng sau học_kỳ 1 và sau học_kỳ hè ( kết_quả học_tập của học_kỳ hè sẽ được tính chung vào kết_quả học_tập học_kỳ 2 của năm_học tương_ứng ) . - Số tín_chỉ tích_lũy ( STCTL ) so với tiến_độ CTĐT nhỏ hơn 80 % nếu đang học năm 1 , 2 hoặc nhỏ hơn 90 % nếu đang học các năm trên . - ĐTBHK nhỏ hơn 6,5 hoặc hai học_kỳ liên_tiếp ( tính cả học_kỳ trước khi tuyển vào lớp CTTN ) nhỏ hơn 7,0 – chỉ tính các học_kỳ chính . - Điểm rèn_luyện dưới mức KHÁ – tính theo qui_định hiện_hành . - Nằm trong danh_sách sinh_viên dự_bị 02 học_kỳ liên_tiếp . Các sinh_viên bị loại ra khỏi chương_trình trong 3 học_kỳ đầu_tiên của khóa học sẽ được trở về ngành / chuyên_ngành gốc theo kết_quả tuyển_sinh , từ_học_kỳ thứ 4 trở_đi thì sinh_viên được chuyển sang lớp chương_trình chuẩn cùng ngành / chuyên_ngành với lớp CTTN đang học . Sinh_viên bị loại ra khỏi chương_trình không được tham_gia dự_tuyển bổ_sung lại vào chương_trình . 2 . Sinh_viên xin ra khỏi chương_trình Sinh_viên có yêu_cầu cá_nhân được phép làm đơn xin ra khỏi chương_trình và trở về lớp đào_tạo theo chương_trình chuẩn phù_hợp ( tương_tự với sinh_viên bị loại khỏi chương_trình ) . Nếu sinh_viên xin ra khỏi CTTN phải có trách_nhiệm hoàn_trả lại toàn_bộ số tiền học_bổng đã nhận theo điều 13 của quy_định này . 3 . Tuyển bổ_sung sinh_viên từ_chương_trình chuẩn Căn_cứ vào chỉ_tiêu của từng khóa và số sinh_viên bị loại , nếu số sinh_viên còn lại của một lớp CTTN ít hơn chỉ_tiêu thì Khoa được phép tiến_hành tuyển bổ_sung . Sinh_viên vừa được tuyển bổ_sung là sinh_viên dự_bị của lớp tài_năng sao cho số_lượng sinh_viên dự_bị không quá 20 % tổng_số_lượng sinh_viên của lớp tài_năng , trong trường_hợp tổng_số sinh_viên của lớp tài_năng chưa đạt 2 / 3 chỉ_tiêu thì được quyền tuyển bổ_sung sinh_viên dự_bị vượt hơn 20 % tổng_số_lượng sinh_viên nhưng không được vượt quá chỉ_tiêu Việc tuyển bổ_sung được thực_hiện lần cuối cho học_kỳ thứ 4 ( xét theo kết_quả học_kỳ thứ 3 ) . điều_kiện để sinh_viên được tham_gia dự_tuyển bổ_sung : - Sinh_viên chương_trình chuẩn đang theo học cùng khóa , cùng ngành với lớp CTTN tương_ứng . Trường_hợp cần_thiết Khoa có_thể thông_báo tuyển cả các sinh_viên một_số ngành / chuyên_ngành khác - cùng khóa nếu ngành này chưa có sự khác_biệt đáng_kể về chương_trình đào_tạo so với ngành đang đào_tạo CTTN ( số tín_chỉ khác_biệt < 10 % ) . - Có điểm rèn_luyện đạt từ_loại Khá trở lên , có nguyện_vọng theo học lớp CTTN. - Có STCTL theo tiến_độ CTĐT đạt trên 90 % . - ĐTBHK gần nhất và ĐTBTL tại thời_điểm xét tuyển đều từ 7,5 trở lên . - Điểm tổng_kết các môn_học cốt_lõi ( nếu có ) đều đạt từ 7,5 trở lên . - Đạt các tiêu_chuẩn bổ_sung khác do khoa quy_định cụ_thể . 4 . Chuyển_đổi sinh_viên chính_thức và dự_bị Sau mỗi học_kỳ chính , BĐH và Khoa sẽ căn_cứ vào kết_quả học_tập của toàn_bộ sinh_viên lớp tài_năng để xét_lại danh_sách sinh_viên chính_thức và dự_bị và trình BGH phê_duyệt Sinh_viên chính_thức phải có ĐTBTL > = 7,5 và có STCTL theo tiến_độ CTĐT đạt trên 90 % .',\n",
       "  'negative': 'Điều 5 . Giáo_trình cho mỗi học_phần 5.1 . Mỗi học_phần dùng một giáo_trình chính . Trong từng giai_đoạn , giáo_trình cho học_phần có_thể thay_đổi do Hiệu_trưởng ra quyết_định . 5.2 . Ngoài một giáo_trình chính , mỗi học_phần được trường tổ_chức biên_soạn tối_đa hai sách chuyên_khảo , ba tài_liệu tham_khảo , một tài_liệu hướng_dẫn . 5.3 . Các giáo_trình sử_dụng trong giảng_dạy phải được ghi rõ trong đề_cương học_phần đã được Hiệu_trưởng phê_duyệt .'},\n",
       " {'anchor': 'Các mức điểm xếp lớp tiếng Anh được Hiệu_trưởng quyết_định điều_chỉnh như thế_nào ?',\n",
       "  'positive': 'Điều 4 . Kiểm_tra xếp lớp đầu khóa cho sinh_viên thuộc CTC , CTTN , CTTT 1 . Vào đầu khóa học , Trường tổ_chức kiểm_tra tiếng Anh để xếp lớp cho tất_cả sinh_viên khóa tuyển mới . Đề kiểm_tra xếp lớp đầu khóa có dạng_thức như đề thi TOEIC 2 kỹ_năng ( nghe và đọc ) . Căn_cứ vào kết_quả kiểm_tra tiếng Anh , sinh_viên được xếp vào lớp tiếng Anh phù_hợp với trình_độ của sinh_viên theo thông_tin xếp lớp đầu khoá . Tùy theo tình_hình thực_tế , các mức điểm có_thể được Hiệu_trưởng quyết_định điều_chỉnh theo đề_xuất hợp_lý của bộ_phận chuyên_môn . 2 . Xếp lớp đầu khóa Điểm kiểm_tra ( dạng_thức TOEIC nghe và đọc ) Dưới 300 điểm sẽ không được học Anh văn 1 ( mã môn ENG01 ) , được đăng_ký học Anh văn sơ_cấp ngoài CTĐT chính_quy do Trung_tâm Ngoại_ngữ phụ_trách ( không bắt_buộc ) . Từ 300 – 345 điểm sẽ Học Anh Văn 1 ( Mã_môn ENG01 ) Từ 350 – 395 điểm sẽ Miễn Anh văn 1 ( mã môn ENG01 ) và Học Anh văn 2 ( mã môn ENG02 ) . Từ 400 - 445 sẽ miễn anh văn 1 ( mã môn ENG01 ) , anh văn 2 ( mã môn ENG02 ) và học anh văn 3 ( mã môn ENG03 ) . Từ 450 điểm trở lên sẽ được Miễn Anh văn 1 ( mã môn ENG01 ) đến Anh văn 3 ( mã môn ENG03 ) . Đối_với chương_trình CTTT : Dưới 345 điểm sẽ học anh văn 1 ( mã môn ENG01 ) . Từ 350 đến 395 điểm được miễn anh văn 1 ( mã môn ENG01 ) và học anh văn 2 ( mã môn ENG02 ) Từ 400 - 445 điểm được miễn học Anh văn 1 , Anh văn 2 và phải học Anh văn 3 . Từ 450 - 495 điểm được miễn học Anh văn 1 , Anh văn 2 , Anh văn 3 và phải học Anh văn 4 . Từ 500 điểm trở lên được miễn từ Anh văn đến Anh văn 4 và học Anh văn 5 . Nếu sinh_viên nộp chứng_chỉ ngoại_ngữ để được xét miễn các môn_học tiếng Anh theo quy_định tại Điều 5 thì không cần tham_gia thi xếp lớp . Thời_điểm nộp chứng_chỉ để xét miễn : chậm nhất là 2 tuần trước khi bắt_đầu học_kỳ 1 . 3 . Nếu không dự thi xếp lớp và không nộp chứng_chỉ tiếng Anh , sinh_viên được xếp vào trình_độ tương_ứng với điểm kiểm_tra dưới 300 theo Bảng 2 .',\n",
       "  'negative': 'Điều 6 . Quy_định chung về nội_dung văn_bằng , chứng_chỉ Nội_dung chung của các văn_bằng , chứng_chỉ gồm : 1 . Tiêu_đề : CỘNG_HOÀ XÃ_HỘI CHỦ_NGHĨA VIỆT NAM Độc_lập - Tự_do - Hạnh_phúc 2 . Tên của Trường . 3 . Tên văn_bằng , chứng_chỉ được quy_định như sau : a ) Văn_bằng : - Bằng đại_học ; Bằng tốt_nghiệp đại_học ngành kỹ_thuật được gọi là bằng kỹ_sư ; của các ngành khoa_học cơ_bản được gọi là bằng cử_nhân ; - Bằng thạc_sĩ ; - Bằng tiến_sĩ . b ) Chứng_chỉ : - Chứng_chỉ_thực_hành : chứng_chỉ ngoại_ngữ ; chứng_chỉ ứng_dụng công_nghệ thông_tin . - Chứng_chỉ các môn_học , bồi_dưỡng ; chứng_chỉ kỹ_thuật_viên và các loại chứng_chỉ khác có giá_trị tương_ứng được Giám_đốc ĐHQG - HCM giao nhiệm_vụ đào_tạo . 4 . Ngành đào_tạo ( đối_với văn_bằng ) , chương_trình đào_tạo , bồi_dưỡng nếu có ( đối_với chứng_chỉ ) . 5 . Họ , chữ đệm , tên ; ngày_tháng năm sinh của người được cấp văn_bằng , chứng_chỉ . 6 . Hạng tốt_nghiệp / xếp loại tốt_nghiệp . 7 . Số_hiệu và số vào sổ gốc cấp văn_bằng , chứng_chỉ . 8 . Địa_danh : Thành_phố Hồ_Chí_Minh ; ngày_tháng năm cấp văn_bằng , chứng_chỉ . 9 . Chức_danh , chữ_ký , họ , chữ đệm , tên của người có thẩm_quyền cấp văn_bằng , chứng_chỉ và đóng_dấu theo quy_định . 10 . Biểu_tượng , hoa_văn : a ) Đối_với văn_bằng : Biểu_tượng là biểu_tượng của ĐHQG - HCM , của Trường ; hoa_văn in trên văn_bằng là biểu_tượng của ĐHQG - HCM. b ) Đối_với chứng_chỉ do ĐHQG - HCM in phôi : Biểu_tượng là biểu_tượng của ĐHQG - HCM ; hoa_văn in trên chứng_chỉ là biểu_tượng của ĐHQG - HCM. c ) Đối_với chứng_chỉ do Trường in phôi : Biểu_tượng là biểu_tượng của Trường ; hoa_văn in trên văn_bằng là biểu_tượng của Trường .'})"
      ]
     },
     "execution_count": 99,
     "metadata": {},
     "output_type": "execute_result"
    }
   ],
   "source": [
    "triplet_train = make_triplet_dataset(df_train)\n",
    "triplet_valid = make_triplet_dataset(df_valid)\n",
    "triplet_test  = make_triplet_dataset(df_test)\n",
    "\n",
    "triplet_dataset = DatasetDict({\"train\": triplet_train, \n",
    "                                  \"valid\": triplet_valid, \n",
    "                                  \"test\" : triplet_test\n",
    "                                })\n",
    "\n",
    "print(triplet_dataset)\n",
    "triplet_dataset[\"train\"][0], triplet_dataset[\"train\"][1]"
   ]
  },
  {
   "cell_type": "code",
   "execution_count": 67,
   "metadata": {},
   "outputs": [
    {
     "data": {
      "application/vnd.jupyter.widget-view+json": {
       "model_id": "3669d3d9436a47499810f5d54f16d4b6",
       "version_major": 2,
       "version_minor": 0
      },
      "text/plain": [
       "Uploading the dataset shards:   0%|          | 0/1 [00:00<?, ?it/s]"
      ]
     },
     "metadata": {},
     "output_type": "display_data"
    },
    {
     "data": {
      "application/vnd.jupyter.widget-view+json": {
       "model_id": "1fac69c6795b469ca14d6c684eed995d",
       "version_major": 2,
       "version_minor": 0
      },
      "text/plain": [
       "Creating parquet from Arrow format:   0%|          | 0/8 [00:00<?, ?ba/s]"
      ]
     },
     "metadata": {},
     "output_type": "display_data"
    },
    {
     "data": {
      "application/vnd.jupyter.widget-view+json": {
       "model_id": "75053e300d90461d96fe849a6233bc1f",
       "version_major": 2,
       "version_minor": 0
      },
      "text/plain": [
       "Uploading the dataset shards:   0%|          | 0/1 [00:00<?, ?it/s]"
      ]
     },
     "metadata": {},
     "output_type": "display_data"
    },
    {
     "data": {
      "application/vnd.jupyter.widget-view+json": {
       "model_id": "f5aefb0dca994fd49884fa8aff26e9b8",
       "version_major": 2,
       "version_minor": 0
      },
      "text/plain": [
       "Creating parquet from Arrow format:   0%|          | 0/1 [00:00<?, ?ba/s]"
      ]
     },
     "metadata": {},
     "output_type": "display_data"
    },
    {
     "data": {
      "application/vnd.jupyter.widget-view+json": {
       "model_id": "09ac5100763747548d293e5aa2150013",
       "version_major": 2,
       "version_minor": 0
      },
      "text/plain": [
       "Uploading the dataset shards:   0%|          | 0/1 [00:00<?, ?it/s]"
      ]
     },
     "metadata": {},
     "output_type": "display_data"
    },
    {
     "data": {
      "application/vnd.jupyter.widget-view+json": {
       "model_id": "21bebbddece1446a82567f5dd6b3fcc9",
       "version_major": 2,
       "version_minor": 0
      },
      "text/plain": [
       "Creating parquet from Arrow format:   0%|          | 0/1 [00:00<?, ?ba/s]"
      ]
     },
     "metadata": {},
     "output_type": "display_data"
    },
    {
     "data": {
      "application/vnd.jupyter.widget-view+json": {
       "model_id": "7c04917cc0794ee1b9ec79b46a6621ce",
       "version_major": 2,
       "version_minor": 0
      },
      "text/plain": [
       "README.md:   0%|          | 0.00/648 [00:00<?, ?B/s]"
      ]
     },
     "metadata": {},
     "output_type": "display_data"
    },
    {
     "data": {
      "text/plain": [
       "CommitInfo(commit_url='https://huggingface.co/datasets/KhoaUIT/UIT-R2GQA/commit/07a9f52fb01dae33e9f4c19e8d27018a73181681', commit_message='Upload dataset', commit_description='', oid='07a9f52fb01dae33e9f4c19e8d27018a73181681', pr_url=None, repo_url=RepoUrl('https://huggingface.co/datasets/KhoaUIT/UIT-R2GQA', endpoint='https://huggingface.co', repo_type='dataset', repo_id='KhoaUIT/UIT-R2GQA'), pr_revision=None, pr_num=None)"
      ]
     },
     "execution_count": 67,
     "metadata": {},
     "output_type": "execute_result"
    }
   ],
   "source": [
    "triplet_dataset.push_to_hub(repo_id='KhoaUIT/UIT-R2GQA', \n",
    "                            config_name='triplet-segmented')"
   ]
  },
  {
   "cell_type": "markdown",
   "metadata": {},
   "source": [
    "## no word-segmented format"
   ]
  },
  {
   "cell_type": "code",
   "execution_count": 14,
   "metadata": {},
   "outputs": [
    {
     "name": "stdout",
     "output_type": "stream",
     "text": [
      "(7806, 2)\n"
     ]
    },
    {
     "data": {
      "text/html": [
       "<div>\n",
       "<style scoped>\n",
       "    .dataframe tbody tr th:only-of-type {\n",
       "        vertical-align: middle;\n",
       "    }\n",
       "\n",
       "    .dataframe tbody tr th {\n",
       "        vertical-align: top;\n",
       "    }\n",
       "\n",
       "    .dataframe thead th {\n",
       "        text-align: right;\n",
       "    }\n",
       "</style>\n",
       "<table border=\"1\" class=\"dataframe\">\n",
       "  <thead>\n",
       "    <tr style=\"text-align: right;\">\n",
       "      <th></th>\n",
       "      <th>context</th>\n",
       "      <th>question</th>\n",
       "    </tr>\n",
       "  </thead>\n",
       "  <tbody>\n",
       "    <tr>\n",
       "      <th>0</th>\n",
       "      <td>Điều 9. Tuyển bổ sung và loại ra khỏi chương t...</td>\n",
       "      <td>Sinh viên dự bị không trở thành sinh viên chín...</td>\n",
       "    </tr>\n",
       "    <tr>\n",
       "      <th>1</th>\n",
       "      <td>Điều 4. Kiểm tra xếp lớp đầu khóa cho sinh viê...</td>\n",
       "      <td>Các mức điểm xếp lớp tiếng Anh được Hiệu trưởn...</td>\n",
       "    </tr>\n",
       "    <tr>\n",
       "      <th>2</th>\n",
       "      <td>Điều 5. Chương trình đào tạo CT CLC được xây d...</td>\n",
       "      <td>Trình độ tiếng Nhật đạt N mấy mới thì sinh viê...</td>\n",
       "    </tr>\n",
       "    <tr>\n",
       "      <th>3</th>\n",
       "      <td>Điều 25. Cách tính điểm trung bình 1. ĐTBHK, Đ...</td>\n",
       "      <td>Cách tính điểm giữa điểm trung bình học kỳ, đi...</td>\n",
       "    </tr>\n",
       "    <tr>\n",
       "      <th>4</th>\n",
       "      <td>Điều 19. Tổ chức phúc khảo và giải quyết khiếu...</td>\n",
       "      <td>Hoạt động nào sẽ diễn ra khi SV có khiếu nại v...</td>\n",
       "    </tr>\n",
       "  </tbody>\n",
       "</table>\n",
       "</div>"
      ],
      "text/plain": [
       "                                             context  \\\n",
       "0  Điều 9. Tuyển bổ sung và loại ra khỏi chương t...   \n",
       "1  Điều 4. Kiểm tra xếp lớp đầu khóa cho sinh viê...   \n",
       "2  Điều 5. Chương trình đào tạo CT CLC được xây d...   \n",
       "3  Điều 25. Cách tính điểm trung bình 1. ĐTBHK, Đ...   \n",
       "4  Điều 19. Tổ chức phúc khảo và giải quyết khiếu...   \n",
       "\n",
       "                                            question  \n",
       "0  Sinh viên dự bị không trở thành sinh viên chín...  \n",
       "1  Các mức điểm xếp lớp tiếng Anh được Hiệu trưởn...  \n",
       "2  Trình độ tiếng Nhật đạt N mấy mới thì sinh viê...  \n",
       "3  Cách tính điểm giữa điểm trung bình học kỳ, đi...  \n",
       "4  Hoạt động nào sẽ diễn ra khi SV có khiếu nại v...  "
      ]
     },
     "execution_count": 14,
     "metadata": {},
     "output_type": "execute_result"
    }
   ],
   "source": [
    "df_train = pd.read_csv(\"[R2GQA]-data-full/train.csv\")\n",
    "df_train.drop(columns=columns_to_drop, inplace=True)\n",
    "df_train = df_train.map(func=preprocess_no_segmentation)\n",
    "\n",
    "print(df_train.shape)\n",
    "df_train.head()"
   ]
  },
  {
   "cell_type": "code",
   "execution_count": 15,
   "metadata": {},
   "outputs": [
    {
     "name": "stdout",
     "output_type": "stream",
     "text": [
      "(976, 2)\n"
     ]
    },
    {
     "data": {
      "text/html": [
       "<div>\n",
       "<style scoped>\n",
       "    .dataframe tbody tr th:only-of-type {\n",
       "        vertical-align: middle;\n",
       "    }\n",
       "\n",
       "    .dataframe tbody tr th {\n",
       "        vertical-align: top;\n",
       "    }\n",
       "\n",
       "    .dataframe thead th {\n",
       "        text-align: right;\n",
       "    }\n",
       "</style>\n",
       "<table border=\"1\" class=\"dataframe\">\n",
       "  <thead>\n",
       "    <tr style=\"text-align: right;\">\n",
       "      <th></th>\n",
       "      <th>context</th>\n",
       "      <th>question</th>\n",
       "    </tr>\n",
       "  </thead>\n",
       "  <tbody>\n",
       "    <tr>\n",
       "      <th>0</th>\n",
       "      <td>Điều 16. Xử lý học vụ Xử lý học vụ nhằm giúp c...</td>\n",
       "      <td>Sinh viên chưa hết thời gian tối đa hoàn thành...</td>\n",
       "    </tr>\n",
       "    <tr>\n",
       "      <th>1</th>\n",
       "      <td>Điều 32. Chấm thực tập, khóa luận tốt nghiệp 1...</td>\n",
       "      <td>Điểm của khoá luận tính theo thang điểm mấy?</td>\n",
       "    </tr>\n",
       "    <tr>\n",
       "      <th>2</th>\n",
       "      <td>Điều 11. Đào tạo ngoại ngữ - Vào đầu khóa học,...</td>\n",
       "      <td>Vào đầu mỗi khóa học sinh viên CT CLC cần phải...</td>\n",
       "    </tr>\n",
       "    <tr>\n",
       "      <th>3</th>\n",
       "      <td>Điều 9. Văn bằng, chứng chỉ/chứng nhận được sử...</td>\n",
       "      <td>Tại sao sinh viên cần nộp chứng chỉ cho Trường?</td>\n",
       "    </tr>\n",
       "    <tr>\n",
       "      <th>4</th>\n",
       "      <td>Điều 1. Phạm vi điều chỉnh và đối tượng áp dụn...</td>\n",
       "      <td>Văn bằng giáo dục đại học, sau đại học và các ...</td>\n",
       "    </tr>\n",
       "  </tbody>\n",
       "</table>\n",
       "</div>"
      ],
      "text/plain": [
       "                                             context  \\\n",
       "0  Điều 16. Xử lý học vụ Xử lý học vụ nhằm giúp c...   \n",
       "1  Điều 32. Chấm thực tập, khóa luận tốt nghiệp 1...   \n",
       "2  Điều 11. Đào tạo ngoại ngữ - Vào đầu khóa học,...   \n",
       "3  Điều 9. Văn bằng, chứng chỉ/chứng nhận được sử...   \n",
       "4  Điều 1. Phạm vi điều chỉnh và đối tượng áp dụn...   \n",
       "\n",
       "                                            question  \n",
       "0  Sinh viên chưa hết thời gian tối đa hoàn thành...  \n",
       "1       Điểm của khoá luận tính theo thang điểm mấy?  \n",
       "2  Vào đầu mỗi khóa học sinh viên CT CLC cần phải...  \n",
       "3    Tại sao sinh viên cần nộp chứng chỉ cho Trường?  \n",
       "4  Văn bằng giáo dục đại học, sau đại học và các ...  "
      ]
     },
     "execution_count": 15,
     "metadata": {},
     "output_type": "execute_result"
    }
   ],
   "source": [
    "df_valid = pd.read_csv(\"[R2GQA]-data-full/val.csv\")\n",
    "df_valid.drop(columns=columns_to_drop, inplace=True)\n",
    "df_valid = df_valid.map(func=preprocess_no_segmentation)\n",
    "\n",
    "print(df_valid.shape)\n",
    "df_valid.head()"
   ]
  },
  {
   "cell_type": "code",
   "execution_count": 16,
   "metadata": {},
   "outputs": [
    {
     "name": "stdout",
     "output_type": "stream",
     "text": [
      "(976, 2)\n"
     ]
    },
    {
     "data": {
      "text/html": [
       "<div>\n",
       "<style scoped>\n",
       "    .dataframe tbody tr th:only-of-type {\n",
       "        vertical-align: middle;\n",
       "    }\n",
       "\n",
       "    .dataframe tbody tr th {\n",
       "        vertical-align: top;\n",
       "    }\n",
       "\n",
       "    .dataframe thead th {\n",
       "        text-align: right;\n",
       "    }\n",
       "</style>\n",
       "<table border=\"1\" class=\"dataframe\">\n",
       "  <thead>\n",
       "    <tr style=\"text-align: right;\">\n",
       "      <th></th>\n",
       "      <th>context</th>\n",
       "      <th>question</th>\n",
       "    </tr>\n",
       "  </thead>\n",
       "  <tbody>\n",
       "    <tr>\n",
       "      <th>0</th>\n",
       "      <td>Điều 8. Xây dựng, thẩm định học liệu điện tử 1...</td>\n",
       "      <td>Học liệu điện tử sau khi được thông qua bởi ĐV...</td>\n",
       "    </tr>\n",
       "    <tr>\n",
       "      <th>1</th>\n",
       "      <td>Điều 20. Hồ sơ, trình tự, thủ tục chỉnh sửa nộ...</td>\n",
       "      <td>Có thể nộp bản sao giấy khai sinh cho hồ sơ đề...</td>\n",
       "    </tr>\n",
       "    <tr>\n",
       "      <th>2</th>\n",
       "      <td>Điều 23. Điểm Miễn 1. Điểm BL - Sinh viên đã t...</td>\n",
       "      <td>Quy định về điểm M trong trường hợp sinh viên ...</td>\n",
       "    </tr>\n",
       "    <tr>\n",
       "      <th>3</th>\n",
       "      <td>Điều 4. Xét duyệt đề tài KLTN Khoa chịu trách ...</td>\n",
       "      <td>Yêu cầu đối với học vị của CBHD hướng dẫn KLTN...</td>\n",
       "    </tr>\n",
       "    <tr>\n",
       "      <th>4</th>\n",
       "      <td>Điều 11. Quy trình chuẩn bị cho kỳ thi 1. Đầu ...</td>\n",
       "      <td>Công việc phân công cán bộ coi thi có nội dung...</td>\n",
       "    </tr>\n",
       "  </tbody>\n",
       "</table>\n",
       "</div>"
      ],
      "text/plain": [
       "                                             context  \\\n",
       "0  Điều 8. Xây dựng, thẩm định học liệu điện tử 1...   \n",
       "1  Điều 20. Hồ sơ, trình tự, thủ tục chỉnh sửa nộ...   \n",
       "2  Điều 23. Điểm Miễn 1. Điểm BL - Sinh viên đã t...   \n",
       "3  Điều 4. Xét duyệt đề tài KLTN Khoa chịu trách ...   \n",
       "4  Điều 11. Quy trình chuẩn bị cho kỳ thi 1. Đầu ...   \n",
       "\n",
       "                                            question  \n",
       "0  Học liệu điện tử sau khi được thông qua bởi ĐV...  \n",
       "1  Có thể nộp bản sao giấy khai sinh cho hồ sơ đề...  \n",
       "2  Quy định về điểm M trong trường hợp sinh viên ...  \n",
       "3  Yêu cầu đối với học vị của CBHD hướng dẫn KLTN...  \n",
       "4  Công việc phân công cán bộ coi thi có nội dung...  "
      ]
     },
     "execution_count": 16,
     "metadata": {},
     "output_type": "execute_result"
    }
   ],
   "source": [
    "df_test = pd.read_csv(\"[R2GQA]-data-full/test.csv\")\n",
    "df_test.drop(columns=columns_to_drop, inplace=True)\n",
    "df_test = df_test.map(func=preprocess_no_segmentation)\n",
    "\n",
    "print(df_test.shape)\n",
    "df_test.head()"
   ]
  },
  {
   "cell_type": "code",
   "execution_count": 17,
   "metadata": {},
   "outputs": [
    {
     "name": "stdout",
     "output_type": "stream",
     "text": [
      "DatasetDict({\n",
      "    train: Dataset({\n",
      "        features: ['question', 'context', 'label'],\n",
      "        num_rows: 15612\n",
      "    })\n",
      "    valid: Dataset({\n",
      "        features: ['question', 'context', 'label'],\n",
      "        num_rows: 1952\n",
      "    })\n",
      "    test: Dataset({\n",
      "        features: ['question', 'context', 'label'],\n",
      "        num_rows: 1952\n",
      "    })\n",
      "})\n"
     ]
    },
    {
     "data": {
      "text/plain": [
       "({'question': 'Sinh viên dự bị không trở thành sinh viên chính thức bao nhiêu học kỳ sẽ bị loại khỏi CTTN?',\n",
       "  'context': 'Điều 9. Tuyển bổ sung và loại ra khỏi chương trình, xét chính thức và dự bị Đối tượng tham gia CTTN là những sinh viên có năng lực xuất sắc, do đó, sau mỗi học kỳ BĐH quyết định việc loại sinh viên khỏi lớp tài năng, tuyển bổ sung sinh viên từ chương trình chuẩn vào lớp tài năng, xét chuyển đổi sinh viên chính thức và dự bị. Đầu mỗi học kỳ, Khoa xét và đề nghị lên BĐH các danh sách sinh viên tuyển bổ sung, bị loại ra khỏi các lớp CTTN hoặc danh sách sinh viên chính thức và dự bị theo các tiêu chuẩn như sau: 1. Loại khỏi chương trình Tại thời điểm xem xét, sinh viên rơi vào một trong các trường hợp sau: - Chưa tốt nghiệp khi đã quá thời gian thiết kế của khóa học và không có lý do đặc biệt. - Không đăng ký học đầy đủ các môn học CTTN bắt buộc trong học kỳ. - ĐTBTL nhỏ hơn 6,5 – tính tương ứng sau học kỳ 1 và sau học kỳ hè (kết quả học tập của học kỳ hè sẽ được tính chung vào kết quả học tập học kỳ 2 của năm học tương ứng). - Số tín chỉ tích lũy (STCTL) so với tiến độ CTĐT nhỏ hơn 80% nếu đang học năm 1, 2 hoặc nhỏ hơn 90% nếu đang học các năm trên. - ĐTBHK nhỏ hơn 6,5 hoặc hai học kỳ liên tiếp (tính cả học kỳ trước khi tuyển vào lớp CTTN) nhỏ hơn 7,0 – chỉ tính các học kỳ chính. - Điểm rèn luyện dưới mức KHÁ – tính theo qui định hiện hành. - Nằm trong danh sách sinh viên dự bị 02 học kỳ liên tiếp. Các sinh viên bị loại ra khỏi chương trình trong 3 học kỳ đầu tiên của khóa học sẽ được trở về ngành/chuyên ngành gốc theo kết quả tuyển sinh, từ học kỳ thứ 4 trở đi thì sinh viên được chuyển sang lớp chương trình chuẩn cùng ngành/chuyên ngành với lớp CTTN đang học. Sinh viên bị loại ra khỏi chương trình không được tham gia dự tuyển bổ sung lại vào chương trình. 2. Sinh viên xin ra khỏi chương trình Sinh viên có yêu cầu cá nhân được phép làm đơn xin ra khỏi chương trình và trở về lớp đào tạo theo chương trình chuẩn phù hợp (tương tự với sinh viên bị loại khỏi chương trình). Nếu sinh viên xin ra khỏi CTTN phải có trách nhiệm hoàn trả lại toàn bộ số tiền học bổng đã nhận theo điều 13 của quy định này. 3. Tuyển bổ sung sinh viên từ chương trình chuẩn Căn cứ vào chỉ tiêu của từng khóa và số sinh viên bị loại, nếu số sinh viên còn lại của một lớp CTTN ít hơn chỉ tiêu thì Khoa được phép tiến hành tuyển bổ sung. Sinh viên vừa được tuyển bổ sung là sinh viên dự bị của lớp tài năng sao cho số lượng sinh viên dự bị không quá 20% tổng số lượng sinh viên của lớp tài năng, trong trường hợp tổng số sinh viên của lớp tài năng chưa đạt 2/3 chỉ tiêu thì được quyền tuyển bổ sung sinh viên dự bị vượt hơn 20% tổng số lượng sinh viên nhưng không được vượt quá chỉ tiêu Việc tuyển bổ sung được thực hiện lần cuối cho học kỳ thứ 4 (xét theo kết quả học kỳ thứ 3). điều kiện để sinh viên được tham gia dự tuyển bổ sung: - Sinh viên chương trình chuẩn đang theo học cùng khóa, cùng ngành với lớp CTTN tương ứng. Trường hợp cần thiết Khoa có thể thông báo tuyển cả các sinh viên một số ngành/chuyên ngành khác - cùng khóa nếu ngành này chưa có sự khác biệt đáng kể về chương trình đào tạo so với ngành đang đào tạo CTTN (số tín chỉ khác biệt < 10%). - Có điểm rèn luyện đạt từ loại Khá trở lên, có nguyện vọng theo học lớp CTTN. - Có STCTL theo tiến độ CTĐT đạt trên 90%. - ĐTBHK gần nhất và ĐTBTL tại thời điểm xét tuyển đều từ 7,5 trở lên. - Điểm tổng kết các môn học cốt lõi (nếu có) đều đạt từ 7,5 trở lên. - Đạt các tiêu chuẩn bổ sung khác do khoa quy định cụ thể. 4. Chuyển đổi sinh viên chính thức và dự bị Sau mỗi học kỳ chính, BĐH và Khoa sẽ căn cứ vào kết quả học tập của toàn bộ sinh viên lớp tài năng để xét lại danh sách sinh viên chính thức và dự bị và trình BGH phê duyệt Sinh viên chính thức phải có ĐTBTL >= 7,5 và có STCTL theo tiến độ CTĐT đạt trên 90%.',\n",
       "  'label': 1},\n",
       " {'question': 'Sinh viên dự bị không trở thành sinh viên chính thức bao nhiêu học kỳ sẽ bị loại khỏi CTTN?',\n",
       "  'context': 'Điều 15. Sau khi bảo vệ trước hội đồng Sinh viên phải hoàn chỉnh báo cáo KLTN theo góp ý của CBPB và Hội đồng. Báo cáo KLTN sau khi hiệu chỉnh sẽ được in có bìa cứng mạ vàng theo mẫu quy định, có xác nhận của CBPB về việc đã chỉnh sửa báo cáo theo yêu cầu và nộp về cho Khoa 1 bản, 1 bản nộp cho thư viện Trường. Trong bản chính thức bắt buộc phải đóng kèm bản chính (hoặc bản sao) nhận xét của CBHD và CBPB, trang liệt kê danh sách các thành viên Hội đồng cùng CBHD, CBPB.',\n",
       "  'label': 0})"
      ]
     },
     "execution_count": 17,
     "metadata": {},
     "output_type": "execute_result"
    }
   ],
   "source": [
    "pair_class_train = make_pair_class_dataset(df_train)\n",
    "pair_class_valid = make_pair_class_dataset(df_valid)\n",
    "pair_class_test  = make_pair_class_dataset(df_test)\n",
    "\n",
    "pair_class_dataset = DatasetDict({\"train\": pair_class_train, \n",
    "                                  \"valid\": pair_class_valid, \n",
    "                                  \"test\" : pair_class_test\n",
    "                                })\n",
    "\n",
    "print(pair_class_dataset)\n",
    "pair_class_dataset[\"train\"][0], pair_class_dataset[\"train\"][1]"
   ]
  },
  {
   "cell_type": "code",
   "execution_count": 18,
   "metadata": {},
   "outputs": [
    {
     "data": {
      "application/vnd.jupyter.widget-view+json": {
       "model_id": "c708d8d7044c40259b7e2ead5a09a505",
       "version_major": 2,
       "version_minor": 0
      },
      "text/plain": [
       "Uploading the dataset shards:   0%|          | 0/1 [00:00<?, ?it/s]"
      ]
     },
     "metadata": {},
     "output_type": "display_data"
    },
    {
     "data": {
      "application/vnd.jupyter.widget-view+json": {
       "model_id": "a91398a64632466f9c888732f580d3e1",
       "version_major": 2,
       "version_minor": 0
      },
      "text/plain": [
       "Creating parquet from Arrow format:   0%|          | 0/16 [00:00<?, ?ba/s]"
      ]
     },
     "metadata": {},
     "output_type": "display_data"
    },
    {
     "data": {
      "application/vnd.jupyter.widget-view+json": {
       "model_id": "1d6e3a64d6424019b437534ab441ee76",
       "version_major": 2,
       "version_minor": 0
      },
      "text/plain": [
       "Uploading the dataset shards:   0%|          | 0/1 [00:00<?, ?it/s]"
      ]
     },
     "metadata": {},
     "output_type": "display_data"
    },
    {
     "data": {
      "application/vnd.jupyter.widget-view+json": {
       "model_id": "d3bbb808f3e34700947b60471beb50d6",
       "version_major": 2,
       "version_minor": 0
      },
      "text/plain": [
       "Creating parquet from Arrow format:   0%|          | 0/2 [00:00<?, ?ba/s]"
      ]
     },
     "metadata": {},
     "output_type": "display_data"
    },
    {
     "data": {
      "application/vnd.jupyter.widget-view+json": {
       "model_id": "5aac436efb65448aa6399f02100c032d",
       "version_major": 2,
       "version_minor": 0
      },
      "text/plain": [
       "Uploading the dataset shards:   0%|          | 0/1 [00:00<?, ?it/s]"
      ]
     },
     "metadata": {},
     "output_type": "display_data"
    },
    {
     "data": {
      "application/vnd.jupyter.widget-view+json": {
       "model_id": "ef96b69999ab422aab451693febd4208",
       "version_major": 2,
       "version_minor": 0
      },
      "text/plain": [
       "Creating parquet from Arrow format:   0%|          | 0/2 [00:00<?, ?ba/s]"
      ]
     },
     "metadata": {},
     "output_type": "display_data"
    },
    {
     "data": {
      "application/vnd.jupyter.widget-view+json": {
       "model_id": "0539ed5cdf344f5f9365dec517eaca8b",
       "version_major": 2,
       "version_minor": 0
      },
      "text/plain": [
       "README.md:   0%|          | 0.00/1.25k [00:00<?, ?B/s]"
      ]
     },
     "metadata": {},
     "output_type": "display_data"
    },
    {
     "name": "stderr",
     "output_type": "stream",
     "text": [
      "c:\\Users\\Dell\\AppData\\Local\\Programs\\Python\\Python312\\Lib\\site-packages\\huggingface_hub\\file_download.py:139: UserWarning: `huggingface_hub` cache-system uses symlinks by default to efficiently store duplicated files but your machine does not support them in C:\\Users\\Dell\\.cache\\huggingface\\hub\\datasets--KhoaUIT--UIT-R2GQA. Caching files will still work but in a degraded version that might require more space on your disk. This warning can be disabled by setting the `HF_HUB_DISABLE_SYMLINKS_WARNING` environment variable. For more details, see https://huggingface.co/docs/huggingface_hub/how-to-cache#limitations.\n",
      "To support symlinks on Windows, you either need to activate Developer Mode or to run Python as an administrator. In order to activate developer mode, see this article: https://docs.microsoft.com/en-us/windows/apps/get-started/enable-your-device-for-development\n",
      "  warnings.warn(message)\n"
     ]
    },
    {
     "data": {
      "text/plain": [
       "CommitInfo(commit_url='https://huggingface.co/datasets/KhoaUIT/UIT-R2GQA/commit/240108e3b110c4d7a34b45a0c99af742e3bf4a83', commit_message='Upload dataset', commit_description='', oid='240108e3b110c4d7a34b45a0c99af742e3bf4a83', pr_url=None, repo_url=RepoUrl('https://huggingface.co/datasets/KhoaUIT/UIT-R2GQA', endpoint='https://huggingface.co', repo_type='dataset', repo_id='KhoaUIT/UIT-R2GQA'), pr_revision=None, pr_num=None)"
      ]
     },
     "execution_count": 18,
     "metadata": {},
     "output_type": "execute_result"
    }
   ],
   "source": [
    "pair_class_dataset.push_to_hub(repo_id='KhoaUIT/UIT-R2GQA', \n",
    "                               config_name='pair-class')"
   ]
  },
  {
   "cell_type": "code",
   "execution_count": 19,
   "metadata": {},
   "outputs": [
    {
     "name": "stdout",
     "output_type": "stream",
     "text": [
      "DatasetDict({\n",
      "    train: Dataset({\n",
      "        features: ['anchor', 'positive', 'negative'],\n",
      "        num_rows: 7806\n",
      "    })\n",
      "    valid: Dataset({\n",
      "        features: ['anchor', 'positive', 'negative'],\n",
      "        num_rows: 976\n",
      "    })\n",
      "    test: Dataset({\n",
      "        features: ['anchor', 'positive', 'negative'],\n",
      "        num_rows: 976\n",
      "    })\n",
      "})\n"
     ]
    },
    {
     "data": {
      "text/plain": [
       "({'anchor': 'Sinh viên dự bị không trở thành sinh viên chính thức bao nhiêu học kỳ sẽ bị loại khỏi CTTN?',\n",
       "  'positive': 'Điều 9. Tuyển bổ sung và loại ra khỏi chương trình, xét chính thức và dự bị Đối tượng tham gia CTTN là những sinh viên có năng lực xuất sắc, do đó, sau mỗi học kỳ BĐH quyết định việc loại sinh viên khỏi lớp tài năng, tuyển bổ sung sinh viên từ chương trình chuẩn vào lớp tài năng, xét chuyển đổi sinh viên chính thức và dự bị. Đầu mỗi học kỳ, Khoa xét và đề nghị lên BĐH các danh sách sinh viên tuyển bổ sung, bị loại ra khỏi các lớp CTTN hoặc danh sách sinh viên chính thức và dự bị theo các tiêu chuẩn như sau: 1. Loại khỏi chương trình Tại thời điểm xem xét, sinh viên rơi vào một trong các trường hợp sau: - Chưa tốt nghiệp khi đã quá thời gian thiết kế của khóa học và không có lý do đặc biệt. - Không đăng ký học đầy đủ các môn học CTTN bắt buộc trong học kỳ. - ĐTBTL nhỏ hơn 6,5 – tính tương ứng sau học kỳ 1 và sau học kỳ hè (kết quả học tập của học kỳ hè sẽ được tính chung vào kết quả học tập học kỳ 2 của năm học tương ứng). - Số tín chỉ tích lũy (STCTL) so với tiến độ CTĐT nhỏ hơn 80% nếu đang học năm 1, 2 hoặc nhỏ hơn 90% nếu đang học các năm trên. - ĐTBHK nhỏ hơn 6,5 hoặc hai học kỳ liên tiếp (tính cả học kỳ trước khi tuyển vào lớp CTTN) nhỏ hơn 7,0 – chỉ tính các học kỳ chính. - Điểm rèn luyện dưới mức KHÁ – tính theo qui định hiện hành. - Nằm trong danh sách sinh viên dự bị 02 học kỳ liên tiếp. Các sinh viên bị loại ra khỏi chương trình trong 3 học kỳ đầu tiên của khóa học sẽ được trở về ngành/chuyên ngành gốc theo kết quả tuyển sinh, từ học kỳ thứ 4 trở đi thì sinh viên được chuyển sang lớp chương trình chuẩn cùng ngành/chuyên ngành với lớp CTTN đang học. Sinh viên bị loại ra khỏi chương trình không được tham gia dự tuyển bổ sung lại vào chương trình. 2. Sinh viên xin ra khỏi chương trình Sinh viên có yêu cầu cá nhân được phép làm đơn xin ra khỏi chương trình và trở về lớp đào tạo theo chương trình chuẩn phù hợp (tương tự với sinh viên bị loại khỏi chương trình). Nếu sinh viên xin ra khỏi CTTN phải có trách nhiệm hoàn trả lại toàn bộ số tiền học bổng đã nhận theo điều 13 của quy định này. 3. Tuyển bổ sung sinh viên từ chương trình chuẩn Căn cứ vào chỉ tiêu của từng khóa và số sinh viên bị loại, nếu số sinh viên còn lại của một lớp CTTN ít hơn chỉ tiêu thì Khoa được phép tiến hành tuyển bổ sung. Sinh viên vừa được tuyển bổ sung là sinh viên dự bị của lớp tài năng sao cho số lượng sinh viên dự bị không quá 20% tổng số lượng sinh viên của lớp tài năng, trong trường hợp tổng số sinh viên của lớp tài năng chưa đạt 2/3 chỉ tiêu thì được quyền tuyển bổ sung sinh viên dự bị vượt hơn 20% tổng số lượng sinh viên nhưng không được vượt quá chỉ tiêu Việc tuyển bổ sung được thực hiện lần cuối cho học kỳ thứ 4 (xét theo kết quả học kỳ thứ 3). điều kiện để sinh viên được tham gia dự tuyển bổ sung: - Sinh viên chương trình chuẩn đang theo học cùng khóa, cùng ngành với lớp CTTN tương ứng. Trường hợp cần thiết Khoa có thể thông báo tuyển cả các sinh viên một số ngành/chuyên ngành khác - cùng khóa nếu ngành này chưa có sự khác biệt đáng kể về chương trình đào tạo so với ngành đang đào tạo CTTN (số tín chỉ khác biệt < 10%). - Có điểm rèn luyện đạt từ loại Khá trở lên, có nguyện vọng theo học lớp CTTN. - Có STCTL theo tiến độ CTĐT đạt trên 90%. - ĐTBHK gần nhất và ĐTBTL tại thời điểm xét tuyển đều từ 7,5 trở lên. - Điểm tổng kết các môn học cốt lõi (nếu có) đều đạt từ 7,5 trở lên. - Đạt các tiêu chuẩn bổ sung khác do khoa quy định cụ thể. 4. Chuyển đổi sinh viên chính thức và dự bị Sau mỗi học kỳ chính, BĐH và Khoa sẽ căn cứ vào kết quả học tập của toàn bộ sinh viên lớp tài năng để xét lại danh sách sinh viên chính thức và dự bị và trình BGH phê duyệt Sinh viên chính thức phải có ĐTBTL >= 7,5 và có STCTL theo tiến độ CTĐT đạt trên 90%.',\n",
       "  'negative': 'Điều 29. Ứng dụng công nghệ thông tin trong quản lý cơ sở dữ liệu đào tạo 1. Ứng dụng công nghệ thông tin trong quản lý là việc sử dụng công nghệ thông tin vào hoạt động quản lý nhằm nâng cao chất lượng, hiệu quả của hoạt động này. Các hoạt động ứng dụng công nghệ thông tin trong quản lý bao gồm: quản lý công văn, giấy tờ và các thông báo, quản lý giảng viên, phân công giảng dạy, lập thời khóa biểu cho toàn bộ các lớp môn học, quản lý phòng học, quản lý cơ sở vật chất phục vụ giảng dạy, quản lý hồ sơ sinh viên, giám sát đánh giá có tính định lượng sự vận hành của Trường. 2. Việc quản lý hồ sơ sinh viên được thực hiện theo quy định về hồ sơ học sinh, sinh viên và các quy định hiện hành của Bộ GD&ĐT về ứng dụng công nghệ thông tin trong quản lý hồ sơ học sinh, sinh viên.'},\n",
       " {'anchor': 'Các mức điểm xếp lớp tiếng Anh được Hiệu trưởng quyết định điều chỉnh như thế nào?',\n",
       "  'positive': 'Điều 4. Kiểm tra xếp lớp đầu khóa cho sinh viên thuộc CTC, CTTN, CTTT 1. Vào đầu khóa học, Trường tổ chức kiểm tra tiếng Anh để xếp lớp cho tất cả sinh viên khóa tuyển mới. Đề kiểm tra xếp lớp đầu khóa có dạng thức như đề thi TOEIC 2 kỹ năng (nghe và đọc). Căn cứ vào kết quả kiểm tra tiếng Anh, sinh viên được xếp vào lớp tiếng Anh phù hợp với trình độ của sinh viên theo thông tin xếp lớp đầu khoá. Tùy theo tình hình thực tế, các mức điểm có thể được Hiệu trưởng quyết định điều chỉnh theo đề xuất hợp lý của bộ phận chuyên môn. 2. Xếp lớp đầu khóa Điểm kiểm tra(dạng thức TOEIC nghe và đọc) Dưới 300 điểm sẽ không được học Anh văn 1 (mã môn ENG01), được đăng ký học Anh văn sơ cấp ngoài CTĐT chính quy do Trung tâm Ngoại ngữ phụ trách (không bắt buộc). Từ 300 – 345 điểm sẽ Học Anh Văn 1 (Mã môn ENG01) Từ 350 – 395 điểm sẽ Miễn Anh văn 1 (mã môn ENG01) và Học Anh văn 2 (mã môn ENG02). Từ 400-445 sẽ miễn anh văn 1 (mã môn ENG01), anh văn 2 (mã môn ENG02) và học anh văn 3 (mã môn ENG03). Từ 450 điểm trở lên sẽ được Miễn Anh văn 1 (mã môn ENG01) đến Anh văn 3 (mã môn ENG03). Đối với chương trình CTTT: Dưới 345 điểm sẽ học anh văn 1 (mã môn ENG01). Từ 350 đến 395 điểm được miễn anh văn 1 (mã môn ENG01) và học anh văn 2 (mã môn ENG02) Từ 400-445 điểm được miễn học Anh văn 1, Anh văn 2 và phải học Anh văn 3. Từ 450-495 điểm được miễn học Anh văn 1, Anh văn 2, Anh văn 3 và phải học Anh văn 4. Từ 500 điểm trở lên được miễn từ Anh văn đến Anh văn 4 và học Anh văn 5. Nếu sinh viên nộp chứng chỉ ngoại ngữ để được xét miễn các môn học tiếng Anh theo quy định tại Điều 5 thì không cần tham gia thi xếp lớp. Thời điểm nộp chứng chỉ để xét miễn: chậm nhất là 2 tuần trước khi bắt đầu học kỳ 1. 3. Nếu không dự thi xếp lớp và không nộp chứng chỉ tiếng Anh, sinh viên được xếp vào trình độ tương ứng với điểm kiểm tra dưới 300 theo Bảng 2.',\n",
       "  'negative': '2. QUY TRÌNH a. Báo nghỉ dạy, thay đổi CBGD tạm thời Bước 1: Thông báo cho Phòng Đào tạo Đại học. Cán bộ giảng dạycó lý do chính đáng phải nghỉ dạy cần thông báo trực tiếp với Phòng Đào tạo Đại học (theo Phiếu báo nghỉ hoặc điện thoại nếu nghỉ đột xuất). Thời gian: chậm nhất là 15 phút sau khi giờ học bắt đầu. Trách nhiệm thuộc về cán bộ giảng dạy, phối hợp với Phòng Đào tạo Đại học. Biểu mẫu: P1. Bước 2: Phòng Đào tạo Đại học xử lý sự việc. Phòng Đào tạo Đại học thông báo cho Phòng Thanh tra pháp chế và Đảm bảo Chất lượng ghi nhận, Ban Quản lý cơ sở để đóng cửa phòng học và thông báo cho lớp nghỉ. Trường hợp có cán bộ giảng dạy dạy thay, Phòng Đào tạo Đại học cung cấp thông tin cho Phòng Thanh tra Pháp chế và Đảm bảo Chất lượng. Thời gian: theo tuần hoặc ngay sau khi nhận được thông tin. Trách nhiệm thuộc về Phòng Đào tạo Đại học. Đơn vị phối hợp Phòng Thanh tra Pháp chế và Đảm bảo Chất lượng và Ban Quản lý Cơ sở. Không có biểu mẫu kèm theo. Bước 3: Cán bộ giảng dạy hoàn thiện thủ tục báo nghỉ. Cán bộ giảng dạy hoàn thiện Phiếu báo nghỉ dạy theo mẫu và nộp về Phòng Đào tạo Đại học. Phòng Đào tạo Đại học chuyển bản sao Phiếu báo nghỉ dạy có xác nhận cho Phòng Thanh tra Pháp chế và Đảm bảo Chất lượng. Thời gian: chậm nhất là 5 ngày sau buổi dạy đã nghỉ. Trách nhiệm thuộc về cán bộ giảng dạy, phối hợp với Phòng Đào tạo Đại học. Biểu mẫu kèm theo: P1. b. Đăng ký dạy bù Bước 1: Cán bộ giảng dạy đăng ký dạy bù. Cán bộ giảng dạy nộp Phiếu đăng ký dạy bù theo mẫu cho Phòng Đào tạo Đại học. Thời gian ít nhất 5 ngày trước ngày dạy bù. Trách nhiệm thuộc về cán bộ giảng dạy, phối hợp với Phòng Đào tạo Đại học. Biểu mẫu P2. Bước 2: Phòng Đào tạo Đại học xử lý sự việc. Căn cứ thời khóa biểu hiện có để kiểm tra thông tin đăng ký hợp lệ. Đăng ký phòng học. Thời gian trong vòng 3 ngày từ khi nhận đăng ký. Trách nhiệm thuộc về Phòng Đào tạo Đại học, Phối hợp với Ban Quản lý Cơ sở. Không có biểu mẫu kèm theo. Bước 3: Phòng Đào tạo Đại học thông báo lịch dạy bù cho các bên liên quan. Phòng Đào tạo Đại học xác nhận đồng ý việc dạy bù và trả kết quả cho cán bộ giảng dạy. Chuyển bản sao Phiếu đăng ký dạy bù có xác nhận đồng ý cho Phòng Thanh tra Pháp chế và Đảm bảo Chất lượng; Thông báo cho lớp thông qua website của phòng. Thời gian chậm nhất là 2 ngày trước buổi học. Trách nhiệm thuộc về Phòng Đào tạo Đại học, phối hợp với Phòng Thanh tra Pháp chế và Đảm bảo Chất lượng. Biểu mẫu P2. Bước 4: Cán bộ giảng dạy thực hiện dạy bù. Cán bộ giảng dạy tiến hành dạy bù theo đúng lịch đã sắp xếp. Không có thời gian. Trách nhiệm thuộc về cán bộ giảng dạy, không có đơn vị phối hợp và không có biểu mẫu kèm theo.'})"
      ]
     },
     "execution_count": 19,
     "metadata": {},
     "output_type": "execute_result"
    }
   ],
   "source": [
    "triplet_train = make_triplet_dataset(df_train)\n",
    "triplet_valid = make_triplet_dataset(df_valid)\n",
    "triplet_test  = make_triplet_dataset(df_test)\n",
    "\n",
    "triplet_dataset = DatasetDict({\"train\": triplet_train, \n",
    "                                  \"valid\": triplet_valid, \n",
    "                                  \"test\" : triplet_test\n",
    "                                })\n",
    "\n",
    "print(triplet_dataset)\n",
    "triplet_dataset[\"train\"][0], triplet_dataset[\"train\"][1]"
   ]
  },
  {
   "cell_type": "code",
   "execution_count": 20,
   "metadata": {},
   "outputs": [
    {
     "data": {
      "application/vnd.jupyter.widget-view+json": {
       "model_id": "52026ce3e22a425faf16cc3a1b3666a3",
       "version_major": 2,
       "version_minor": 0
      },
      "text/plain": [
       "Uploading the dataset shards:   0%|          | 0/1 [00:00<?, ?it/s]"
      ]
     },
     "metadata": {},
     "output_type": "display_data"
    },
    {
     "data": {
      "application/vnd.jupyter.widget-view+json": {
       "model_id": "759a65ee74844fb9b4964f559f602999",
       "version_major": 2,
       "version_minor": 0
      },
      "text/plain": [
       "Creating parquet from Arrow format:   0%|          | 0/8 [00:00<?, ?ba/s]"
      ]
     },
     "metadata": {},
     "output_type": "display_data"
    },
    {
     "data": {
      "application/vnd.jupyter.widget-view+json": {
       "model_id": "d13e223cc3d74aee8d867ee05b61a95b",
       "version_major": 2,
       "version_minor": 0
      },
      "text/plain": [
       "Uploading the dataset shards:   0%|          | 0/1 [00:00<?, ?it/s]"
      ]
     },
     "metadata": {},
     "output_type": "display_data"
    },
    {
     "data": {
      "application/vnd.jupyter.widget-view+json": {
       "model_id": "5f75e9ef1c0246dc8d3abdd5f266321b",
       "version_major": 2,
       "version_minor": 0
      },
      "text/plain": [
       "Creating parquet from Arrow format:   0%|          | 0/1 [00:00<?, ?ba/s]"
      ]
     },
     "metadata": {},
     "output_type": "display_data"
    },
    {
     "data": {
      "application/vnd.jupyter.widget-view+json": {
       "model_id": "cca7fe1399064412981e0408ff501ed2",
       "version_major": 2,
       "version_minor": 0
      },
      "text/plain": [
       "Uploading the dataset shards:   0%|          | 0/1 [00:00<?, ?it/s]"
      ]
     },
     "metadata": {},
     "output_type": "display_data"
    },
    {
     "data": {
      "application/vnd.jupyter.widget-view+json": {
       "model_id": "5fbff774791d41528874cf3423790b4c",
       "version_major": 2,
       "version_minor": 0
      },
      "text/plain": [
       "Creating parquet from Arrow format:   0%|          | 0/1 [00:00<?, ?ba/s]"
      ]
     },
     "metadata": {},
     "output_type": "display_data"
    },
    {
     "data": {
      "application/vnd.jupyter.widget-view+json": {
       "model_id": "56811a48eb9548b7bd0943bfb0b370c3",
       "version_major": 2,
       "version_minor": 0
      },
      "text/plain": [
       "README.md:   0%|          | 0.00/1.82k [00:00<?, ?B/s]"
      ]
     },
     "metadata": {},
     "output_type": "display_data"
    },
    {
     "data": {
      "text/plain": [
       "CommitInfo(commit_url='https://huggingface.co/datasets/KhoaUIT/UIT-R2GQA/commit/bfdd3ff14113299963b9d1331aeab326a80c70a7', commit_message='Upload dataset', commit_description='', oid='bfdd3ff14113299963b9d1331aeab326a80c70a7', pr_url=None, repo_url=RepoUrl('https://huggingface.co/datasets/KhoaUIT/UIT-R2GQA', endpoint='https://huggingface.co', repo_type='dataset', repo_id='KhoaUIT/UIT-R2GQA'), pr_revision=None, pr_num=None)"
      ]
     },
     "execution_count": 20,
     "metadata": {},
     "output_type": "execute_result"
    }
   ],
   "source": [
    "triplet_dataset.push_to_hub(repo_id='KhoaUIT/UIT-R2GQA', \n",
    "                            config_name='triplet')"
   ]
  }
 ],
 "metadata": {
  "kernelspec": {
   "display_name": "Python 3",
   "language": "python",
   "name": "python3"
  },
  "language_info": {
   "codemirror_mode": {
    "name": "ipython",
    "version": 3
   },
   "file_extension": ".py",
   "mimetype": "text/x-python",
   "name": "python",
   "nbconvert_exporter": "python",
   "pygments_lexer": "ipython3",
   "version": "3.12.3"
  }
 },
 "nbformat": 4,
 "nbformat_minor": 2
}
