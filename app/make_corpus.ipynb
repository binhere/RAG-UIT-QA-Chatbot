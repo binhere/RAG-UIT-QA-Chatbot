{
 "cells": [
  {
   "cell_type": "code",
   "execution_count": 5,
   "metadata": {},
   "outputs": [],
   "source": [
    "from pyvi import ViTokenizer\n",
    "import pandas as pd\n",
    "import numpy as np\n",
    "import random\n",
    "import os\n",
    "import re"
   ]
  },
  {
   "cell_type": "markdown",
   "metadata": {},
   "source": [
    "# helper functions"
   ]
  },
  {
   "cell_type": "code",
   "execution_count": 8,
   "metadata": {},
   "outputs": [],
   "source": [
    "def preprocess_with_segmentation (element):\n",
    "    # Replace newlines, tabs, and redundant spaces with a single space\n",
    "    processed_element = re.sub(r'[\\n\\t\\s]+', ' ', element)\n",
    "    \n",
    "    # Strip leading and trailing spaces\n",
    "    processed_element = processed_element.strip()\n",
    "    \n",
    "    # Tokenize the text using ViTokenizer\n",
    "    segmented_element = ViTokenizer.tokenize(processed_element)\n",
    "    \n",
    "    return segmented_element"
   ]
  },
  {
   "cell_type": "code",
   "execution_count": 9,
   "metadata": {},
   "outputs": [],
   "source": [
    "def preprocess_no_segmentation(element):\n",
    "    # Replace newlines, tabs, and redundant spaces with a single space\n",
    "    processed_element = re.sub(r'[\\n\\t\\s]+', ' ', element)\n",
    "    \n",
    "    # Strip leading and trailing spaces\n",
    "    processed_element = processed_element.strip()\n",
    "    \n",
    "    return processed_element"
   ]
  },
  {
   "cell_type": "markdown",
   "metadata": {},
   "source": [
    "# prepare corpus and test set"
   ]
  },
  {
   "cell_type": "code",
   "execution_count": 10,
   "metadata": {},
   "outputs": [],
   "source": [
    "columns_to_drop = ['index', 'question', 'extractive answer', 'abstractive answer', 'yes/no']"
   ]
  },
  {
   "cell_type": "code",
   "execution_count": 11,
   "metadata": {},
   "outputs": [],
   "source": [
    "test_columns_to_drop = ['index', 'extractive answer', 'abstractive answer', 'yes/no']"
   ]
  },
  {
   "cell_type": "markdown",
   "metadata": {},
   "source": [
    "## word-segmented format "
   ]
  },
  {
   "cell_type": "code",
   "execution_count": 37,
   "metadata": {},
   "outputs": [
    {
     "name": "stdout",
     "output_type": "stream",
     "text": [
      "corpus shape: (9758, 8)\n"
     ]
    },
    {
     "data": {
      "text/html": [
       "<div>\n",
       "<style scoped>\n",
       "    .dataframe tbody tr th:only-of-type {\n",
       "        vertical-align: middle;\n",
       "    }\n",
       "\n",
       "    .dataframe tbody tr th {\n",
       "        vertical-align: top;\n",
       "    }\n",
       "\n",
       "    .dataframe thead th {\n",
       "        text-align: right;\n",
       "    }\n",
       "</style>\n",
       "<table border=\"1\" class=\"dataframe\">\n",
       "  <thead>\n",
       "    <tr style=\"text-align: right;\">\n",
       "      <th></th>\n",
       "      <th>index</th>\n",
       "      <th>context</th>\n",
       "      <th>article</th>\n",
       "      <th>document</th>\n",
       "      <th>question</th>\n",
       "      <th>extractive answer</th>\n",
       "      <th>abstractive answer</th>\n",
       "      <th>yes/no</th>\n",
       "    </tr>\n",
       "  </thead>\n",
       "  <tbody>\n",
       "    <tr>\n",
       "      <th>0</th>\n",
       "      <td>8276</td>\n",
       "      <td>Điều  9.\\tTuyển bổ sung và loại ra khỏi chương...</td>\n",
       "      <td>Điều 9. Tuyển bổ sung và loại ra khỏi chương t...</td>\n",
       "      <td>QUY ĐỊNH ĐÀO TẠO CHƯƠNG TRÌNH TÀI NĂNG</td>\n",
       "      <td>Sinh viên dự bị không trở thành sinh viên chín...</td>\n",
       "      <td>02 học kỳ liên tiếp</td>\n",
       "      <td>Sinh viên dự bị không trở thành sinh viên chín...</td>\n",
       "      <td>NaN</td>\n",
       "    </tr>\n",
       "    <tr>\n",
       "      <th>1</th>\n",
       "      <td>8543</td>\n",
       "      <td>Điều  4.        Kiểm tra xếp lớp đầu khóa cho ...</td>\n",
       "      <td>Điều 4. Kiểm tra xếp lớp đầu khóa cho sinh viê...</td>\n",
       "      <td>QUY ĐỊNH ĐÀO TẠO NGOẠI NGỮ ĐỐI VỚI HỆ ĐẠI HỌC ...</td>\n",
       "      <td>Các mức điểm xếp lớp tiếng Anh được Hiệu trưởn...</td>\n",
       "      <td>theo đề xuất hợp lý của bộ phận chuyên môn</td>\n",
       "      <td>Các mức điểm xếp lớp tiếng Anh được Hiệu trưởn...</td>\n",
       "      <td>NaN</td>\n",
       "    </tr>\n",
       "    <tr>\n",
       "      <th>2</th>\n",
       "      <td>7152</td>\n",
       "      <td>Điều  5.        Chương trình đào tạo\\nCT CLC đ...</td>\n",
       "      <td>Điều 5. Chương trình đào tạo</td>\n",
       "      <td>QUY ĐỊNH ĐÀO TẠO CHƯƠNG TRÌNH CHẤT LƯỢNG CAO</td>\n",
       "      <td>Trình độ tiếng Nhật đạt N mấy mới thì sinh viê...</td>\n",
       "      <td>N3</td>\n",
       "      <td>Sinh viên CT CLC phải đạt tiếng Nhật N3 thì mớ...</td>\n",
       "      <td>NaN</td>\n",
       "    </tr>\n",
       "  </tbody>\n",
       "</table>\n",
       "</div>"
      ],
      "text/plain": [
       "   index                                            context  \\\n",
       "0   8276  Điều  9.\\tTuyển bổ sung và loại ra khỏi chương...   \n",
       "1   8543  Điều  4.        Kiểm tra xếp lớp đầu khóa cho ...   \n",
       "2   7152  Điều  5.        Chương trình đào tạo\\nCT CLC đ...   \n",
       "\n",
       "                                             article  \\\n",
       "0  Điều 9. Tuyển bổ sung và loại ra khỏi chương t...   \n",
       "1  Điều 4. Kiểm tra xếp lớp đầu khóa cho sinh viê...   \n",
       "2                       Điều 5. Chương trình đào tạo   \n",
       "\n",
       "                                            document  \\\n",
       "0             QUY ĐỊNH ĐÀO TẠO CHƯƠNG TRÌNH TÀI NĂNG   \n",
       "1  QUY ĐỊNH ĐÀO TẠO NGOẠI NGỮ ĐỐI VỚI HỆ ĐẠI HỌC ...   \n",
       "2       QUY ĐỊNH ĐÀO TẠO CHƯƠNG TRÌNH CHẤT LƯỢNG CAO   \n",
       "\n",
       "                                            question  \\\n",
       "0  Sinh viên dự bị không trở thành sinh viên chín...   \n",
       "1  Các mức điểm xếp lớp tiếng Anh được Hiệu trưởn...   \n",
       "2  Trình độ tiếng Nhật đạt N mấy mới thì sinh viê...   \n",
       "\n",
       "                            extractive answer  \\\n",
       "0                         02 học kỳ liên tiếp   \n",
       "1  theo đề xuất hợp lý của bộ phận chuyên môn   \n",
       "2                                          N3   \n",
       "\n",
       "                                  abstractive answer  yes/no  \n",
       "0  Sinh viên dự bị không trở thành sinh viên chín...     NaN  \n",
       "1  Các mức điểm xếp lớp tiếng Anh được Hiệu trưởn...     NaN  \n",
       "2  Sinh viên CT CLC phải đạt tiếng Nhật N3 thì mớ...     NaN  "
      ]
     },
     "execution_count": 37,
     "metadata": {},
     "output_type": "execute_result"
    }
   ],
   "source": [
    "df_train = pd.read_csv(\"[R2GQA]-data-full/train.csv\")\n",
    "df_valid = pd.read_csv(\"[R2GQA]-data-full/val.csv\")\n",
    "df_test = pd.read_csv(\"[R2GQA]-data-full/test.csv\")\n",
    "\n",
    "corpus = pd.concat([df_train, df_valid, df_test], axis=0)\n",
    "print('corpus shape:', corpus.shape)\n",
    "corpus.head(3)"
   ]
  },
  {
   "cell_type": "code",
   "execution_count": 39,
   "metadata": {},
   "outputs": [
    {
     "name": "stdout",
     "output_type": "stream",
     "text": [
      "corpus shape: (9758, 3)\n"
     ]
    },
    {
     "data": {
      "text/html": [
       "<div>\n",
       "<style scoped>\n",
       "    .dataframe tbody tr th:only-of-type {\n",
       "        vertical-align: middle;\n",
       "    }\n",
       "\n",
       "    .dataframe tbody tr th {\n",
       "        vertical-align: top;\n",
       "    }\n",
       "\n",
       "    .dataframe thead th {\n",
       "        text-align: right;\n",
       "    }\n",
       "</style>\n",
       "<table border=\"1\" class=\"dataframe\">\n",
       "  <thead>\n",
       "    <tr style=\"text-align: right;\">\n",
       "      <th></th>\n",
       "      <th>context</th>\n",
       "      <th>article</th>\n",
       "      <th>document</th>\n",
       "    </tr>\n",
       "  </thead>\n",
       "  <tbody>\n",
       "    <tr>\n",
       "      <th>0</th>\n",
       "      <td>Điều  9.\\tTuyển bổ sung và loại ra khỏi chương...</td>\n",
       "      <td>Điều 9. Tuyển bổ sung và loại ra khỏi chương t...</td>\n",
       "      <td>QUY ĐỊNH ĐÀO TẠO CHƯƠNG TRÌNH TÀI NĂNG</td>\n",
       "    </tr>\n",
       "    <tr>\n",
       "      <th>1</th>\n",
       "      <td>Điều  4.        Kiểm tra xếp lớp đầu khóa cho ...</td>\n",
       "      <td>Điều 4. Kiểm tra xếp lớp đầu khóa cho sinh viê...</td>\n",
       "      <td>QUY ĐỊNH ĐÀO TẠO NGOẠI NGỮ ĐỐI VỚI HỆ ĐẠI HỌC ...</td>\n",
       "    </tr>\n",
       "    <tr>\n",
       "      <th>2</th>\n",
       "      <td>Điều  5.        Chương trình đào tạo\\nCT CLC đ...</td>\n",
       "      <td>Điều 5. Chương trình đào tạo</td>\n",
       "      <td>QUY ĐỊNH ĐÀO TẠO CHƯƠNG TRÌNH CHẤT LƯỢNG CAO</td>\n",
       "    </tr>\n",
       "  </tbody>\n",
       "</table>\n",
       "</div>"
      ],
      "text/plain": [
       "                                             context  \\\n",
       "0  Điều  9.\\tTuyển bổ sung và loại ra khỏi chương...   \n",
       "1  Điều  4.        Kiểm tra xếp lớp đầu khóa cho ...   \n",
       "2  Điều  5.        Chương trình đào tạo\\nCT CLC đ...   \n",
       "\n",
       "                                             article  \\\n",
       "0  Điều 9. Tuyển bổ sung và loại ra khỏi chương t...   \n",
       "1  Điều 4. Kiểm tra xếp lớp đầu khóa cho sinh viê...   \n",
       "2                       Điều 5. Chương trình đào tạo   \n",
       "\n",
       "                                            document  \n",
       "0             QUY ĐỊNH ĐÀO TẠO CHƯƠNG TRÌNH TÀI NĂNG  \n",
       "1  QUY ĐỊNH ĐÀO TẠO NGOẠI NGỮ ĐỐI VỚI HỆ ĐẠI HỌC ...  \n",
       "2       QUY ĐỊNH ĐÀO TẠO CHƯƠNG TRÌNH CHẤT LƯỢNG CAO  "
      ]
     },
     "execution_count": 39,
     "metadata": {},
     "output_type": "execute_result"
    }
   ],
   "source": [
    "corpus.drop(columns=columns_to_drop, inplace=True)\n",
    "print('corpus shape:', corpus.shape)\n",
    "corpus.head(3)"
   ]
  },
  {
   "cell_type": "code",
   "execution_count": 40,
   "metadata": {},
   "outputs": [
    {
     "name": "stdout",
     "output_type": "stream",
     "text": [
      "corpus shape: (294, 3)\n"
     ]
    }
   ],
   "source": [
    "corpus.drop_duplicates(inplace=True)\n",
    "print('corpus shape:', corpus.shape)"
   ]
  },
  {
   "cell_type": "code",
   "execution_count": 42,
   "metadata": {},
   "outputs": [
    {
     "data": {
      "text/html": [
       "<div>\n",
       "<style scoped>\n",
       "    .dataframe tbody tr th:only-of-type {\n",
       "        vertical-align: middle;\n",
       "    }\n",
       "\n",
       "    .dataframe tbody tr th {\n",
       "        vertical-align: top;\n",
       "    }\n",
       "\n",
       "    .dataframe thead th {\n",
       "        text-align: right;\n",
       "    }\n",
       "</style>\n",
       "<table border=\"1\" class=\"dataframe\">\n",
       "  <thead>\n",
       "    <tr style=\"text-align: right;\">\n",
       "      <th></th>\n",
       "      <th>context</th>\n",
       "      <th>article</th>\n",
       "      <th>document</th>\n",
       "    </tr>\n",
       "  </thead>\n",
       "  <tbody>\n",
       "    <tr>\n",
       "      <th>0</th>\n",
       "      <td>Điều 9 . Tuyển bổ_sung và loại ra khỏi chương_...</td>\n",
       "      <td>Điều 9 . Tuyển bổ_sung và loại ra khỏi chương_...</td>\n",
       "      <td>QUY_ĐỊNH ĐÀO_TẠO CHƯƠNG_TRÌNH TÀI_NĂNG</td>\n",
       "    </tr>\n",
       "    <tr>\n",
       "      <th>1</th>\n",
       "      <td>Điều 4 . Kiểm_tra xếp lớp đầu khóa cho sinh_vi...</td>\n",
       "      <td>Điều 4 . Kiểm_tra xếp lớp đầu khóa cho sinh_vi...</td>\n",
       "      <td>QUY_ĐỊNH ĐÀO_TẠO NGOẠI_NGỮ ĐỐI_VỚI HỆ ĐẠI_HỌC ...</td>\n",
       "    </tr>\n",
       "    <tr>\n",
       "      <th>2</th>\n",
       "      <td>Điều 5 . Chương_trình đào_tạo   CT CLC được xâ...</td>\n",
       "      <td>Điều 5 . Chương_trình đào_tạo</td>\n",
       "      <td>QUY_ĐỊNH ĐÀO_TẠO CHƯƠNG_TRÌNH CHẤT_LƯỢNG CAO</td>\n",
       "    </tr>\n",
       "  </tbody>\n",
       "</table>\n",
       "</div>"
      ],
      "text/plain": [
       "                                             context  \\\n",
       "0  Điều 9 . Tuyển bổ_sung và loại ra khỏi chương_...   \n",
       "1  Điều 4 . Kiểm_tra xếp lớp đầu khóa cho sinh_vi...   \n",
       "2  Điều 5 . Chương_trình đào_tạo   CT CLC được xâ...   \n",
       "\n",
       "                                             article  \\\n",
       "0  Điều 9 . Tuyển bổ_sung và loại ra khỏi chương_...   \n",
       "1  Điều 4 . Kiểm_tra xếp lớp đầu khóa cho sinh_vi...   \n",
       "2                      Điều 5 . Chương_trình đào_tạo   \n",
       "\n",
       "                                            document  \n",
       "0             QUY_ĐỊNH ĐÀO_TẠO CHƯƠNG_TRÌNH TÀI_NĂNG  \n",
       "1  QUY_ĐỊNH ĐÀO_TẠO NGOẠI_NGỮ ĐỐI_VỚI HỆ ĐẠI_HỌC ...  \n",
       "2       QUY_ĐỊNH ĐÀO_TẠO CHƯƠNG_TRÌNH CHẤT_LƯỢNG CAO  "
      ]
     },
     "execution_count": 42,
     "metadata": {},
     "output_type": "execute_result"
    }
   ],
   "source": [
    "corpus = corpus.map(preprocess_with_segmentation)\n",
    "corpus.head(3)"
   ]
  },
  {
   "cell_type": "code",
   "execution_count": 43,
   "metadata": {},
   "outputs": [],
   "source": [
    "os.makedirs('./corpus', exist_ok=True)\n",
    "corpus.to_csv('corpus/corpus-seg.csv', index=False)"
   ]
  },
  {
   "cell_type": "code",
   "execution_count": 46,
   "metadata": {},
   "outputs": [
    {
     "name": "stdout",
     "output_type": "stream",
     "text": [
      "(976, 8)\n"
     ]
    },
    {
     "data": {
      "text/html": [
       "<div>\n",
       "<style scoped>\n",
       "    .dataframe tbody tr th:only-of-type {\n",
       "        vertical-align: middle;\n",
       "    }\n",
       "\n",
       "    .dataframe tbody tr th {\n",
       "        vertical-align: top;\n",
       "    }\n",
       "\n",
       "    .dataframe thead th {\n",
       "        text-align: right;\n",
       "    }\n",
       "</style>\n",
       "<table border=\"1\" class=\"dataframe\">\n",
       "  <thead>\n",
       "    <tr style=\"text-align: right;\">\n",
       "      <th></th>\n",
       "      <th>index</th>\n",
       "      <th>context</th>\n",
       "      <th>article</th>\n",
       "      <th>document</th>\n",
       "      <th>question</th>\n",
       "      <th>extractive answer</th>\n",
       "      <th>abstractive answer</th>\n",
       "      <th>yes/no</th>\n",
       "    </tr>\n",
       "  </thead>\n",
       "  <tbody>\n",
       "    <tr>\n",
       "      <th>0</th>\n",
       "      <td>4206</td>\n",
       "      <td>Điều  8. Xây dựng, thẩm định học liệu điện tử\\...</td>\n",
       "      <td>Điều 8. Xây dựng, thẩm định học liệu điện tử</td>\n",
       "      <td>QUY ĐỊNH DẠY VÀ HỌC THEO PHƯƠNG THỨC TRỰC TUYẾ...</td>\n",
       "      <td>Học liệu điện tử sau khi được thông qua bởi ĐV...</td>\n",
       "      <td>Trường có thể tổ chức thẩm định lại trong trườ...</td>\n",
       "      <td>Trường có thể tổ chức thẩm định lại trong trườ...</td>\n",
       "      <td>1.0</td>\n",
       "    </tr>\n",
       "    <tr>\n",
       "      <th>1</th>\n",
       "      <td>960</td>\n",
       "      <td>Điều  20. Hồ sơ, trình tự, thủ tục chỉnh sửa n...</td>\n",
       "      <td>Điều 20. Hồ sơ, trình tự, thủ tục chỉnh sửa nộ...</td>\n",
       "      <td>QUY CHẾ Văn bằng, chứng chỉ của Trường Đại học...</td>\n",
       "      <td>Có thể nộp bản sao giấy khai sinh cho hồ sơ đề...</td>\n",
       "      <td>Các tài liệu trong hồ sơ đề nghị chỉnh sửa văn...</td>\n",
       "      <td>Việc nộp bản sao giấy khai sinh cho hồ sơ đề n...</td>\n",
       "      <td>NaN</td>\n",
       "    </tr>\n",
       "    <tr>\n",
       "      <th>2</th>\n",
       "      <td>2151</td>\n",
       "      <td>Điều  23. Điểm Miễn\\n1.  Điểm BL\\n-        Sin...</td>\n",
       "      <td>Điều 23. Điểm Miễn</td>\n",
       "      <td>QUY CHẾ ĐÀO TẠO THEO HỌC CHẾ TÍN CHỈ CHO HỆ ĐẠ...</td>\n",
       "      <td>Quy định về điểm M trong trường hợp sinh viên ...</td>\n",
       "      <td>Nếu trùng thời gian thi cuối kỳ: sinh viên đượ...</td>\n",
       "      <td>Quy định về điểm M trong trường hợp sinh viên ...</td>\n",
       "      <td>NaN</td>\n",
       "    </tr>\n",
       "  </tbody>\n",
       "</table>\n",
       "</div>"
      ],
      "text/plain": [
       "   index                                            context  \\\n",
       "0   4206  Điều  8. Xây dựng, thẩm định học liệu điện tử\\...   \n",
       "1    960  Điều  20. Hồ sơ, trình tự, thủ tục chỉnh sửa n...   \n",
       "2   2151  Điều  23. Điểm Miễn\\n1.  Điểm BL\\n-        Sin...   \n",
       "\n",
       "                                             article  \\\n",
       "0       Điều 8. Xây dựng, thẩm định học liệu điện tử   \n",
       "1  Điều 20. Hồ sơ, trình tự, thủ tục chỉnh sửa nộ...   \n",
       "2                                 Điều 23. Điểm Miễn   \n",
       "\n",
       "                                            document  \\\n",
       "0  QUY ĐỊNH DẠY VÀ HỌC THEO PHƯƠNG THỨC TRỰC TUYẾ...   \n",
       "1  QUY CHẾ Văn bằng, chứng chỉ của Trường Đại học...   \n",
       "2  QUY CHẾ ĐÀO TẠO THEO HỌC CHẾ TÍN CHỈ CHO HỆ ĐẠ...   \n",
       "\n",
       "                                            question  \\\n",
       "0  Học liệu điện tử sau khi được thông qua bởi ĐV...   \n",
       "1  Có thể nộp bản sao giấy khai sinh cho hồ sơ đề...   \n",
       "2  Quy định về điểm M trong trường hợp sinh viên ...   \n",
       "\n",
       "                                   extractive answer  \\\n",
       "0  Trường có thể tổ chức thẩm định lại trong trườ...   \n",
       "1  Các tài liệu trong hồ sơ đề nghị chỉnh sửa văn...   \n",
       "2  Nếu trùng thời gian thi cuối kỳ: sinh viên đượ...   \n",
       "\n",
       "                                  abstractive answer  yes/no  \n",
       "0  Trường có thể tổ chức thẩm định lại trong trườ...     1.0  \n",
       "1  Việc nộp bản sao giấy khai sinh cho hồ sơ đề n...     NaN  \n",
       "2  Quy định về điểm M trong trường hợp sinh viên ...     NaN  "
      ]
     },
     "execution_count": 46,
     "metadata": {},
     "output_type": "execute_result"
    }
   ],
   "source": [
    "df_test = pd.read_csv(\"[R2GQA]-data-full/test.csv\")\n",
    "print(df_test.shape)\n",
    "df_test.head(3)"
   ]
  },
  {
   "cell_type": "code",
   "execution_count": 48,
   "metadata": {},
   "outputs": [
    {
     "name": "stdout",
     "output_type": "stream",
     "text": [
      "(976, 4)\n"
     ]
    },
    {
     "data": {
      "text/html": [
       "<div>\n",
       "<style scoped>\n",
       "    .dataframe tbody tr th:only-of-type {\n",
       "        vertical-align: middle;\n",
       "    }\n",
       "\n",
       "    .dataframe tbody tr th {\n",
       "        vertical-align: top;\n",
       "    }\n",
       "\n",
       "    .dataframe thead th {\n",
       "        text-align: right;\n",
       "    }\n",
       "</style>\n",
       "<table border=\"1\" class=\"dataframe\">\n",
       "  <thead>\n",
       "    <tr style=\"text-align: right;\">\n",
       "      <th></th>\n",
       "      <th>context</th>\n",
       "      <th>article</th>\n",
       "      <th>document</th>\n",
       "      <th>question</th>\n",
       "    </tr>\n",
       "  </thead>\n",
       "  <tbody>\n",
       "    <tr>\n",
       "      <th>0</th>\n",
       "      <td>Điều  8. Xây dựng, thẩm định học liệu điện tử\\...</td>\n",
       "      <td>Điều 8. Xây dựng, thẩm định học liệu điện tử</td>\n",
       "      <td>QUY ĐỊNH DẠY VÀ HỌC THEO PHƯƠNG THỨC TRỰC TUYẾ...</td>\n",
       "      <td>Học liệu điện tử sau khi được thông qua bởi ĐV...</td>\n",
       "    </tr>\n",
       "    <tr>\n",
       "      <th>1</th>\n",
       "      <td>Điều  20. Hồ sơ, trình tự, thủ tục chỉnh sửa n...</td>\n",
       "      <td>Điều 20. Hồ sơ, trình tự, thủ tục chỉnh sửa nộ...</td>\n",
       "      <td>QUY CHẾ Văn bằng, chứng chỉ của Trường Đại học...</td>\n",
       "      <td>Có thể nộp bản sao giấy khai sinh cho hồ sơ đề...</td>\n",
       "    </tr>\n",
       "    <tr>\n",
       "      <th>2</th>\n",
       "      <td>Điều  23. Điểm Miễn\\n1.  Điểm BL\\n-        Sin...</td>\n",
       "      <td>Điều 23. Điểm Miễn</td>\n",
       "      <td>QUY CHẾ ĐÀO TẠO THEO HỌC CHẾ TÍN CHỈ CHO HỆ ĐẠ...</td>\n",
       "      <td>Quy định về điểm M trong trường hợp sinh viên ...</td>\n",
       "    </tr>\n",
       "  </tbody>\n",
       "</table>\n",
       "</div>"
      ],
      "text/plain": [
       "                                             context  \\\n",
       "0  Điều  8. Xây dựng, thẩm định học liệu điện tử\\...   \n",
       "1  Điều  20. Hồ sơ, trình tự, thủ tục chỉnh sửa n...   \n",
       "2  Điều  23. Điểm Miễn\\n1.  Điểm BL\\n-        Sin...   \n",
       "\n",
       "                                             article  \\\n",
       "0       Điều 8. Xây dựng, thẩm định học liệu điện tử   \n",
       "1  Điều 20. Hồ sơ, trình tự, thủ tục chỉnh sửa nộ...   \n",
       "2                                 Điều 23. Điểm Miễn   \n",
       "\n",
       "                                            document  \\\n",
       "0  QUY ĐỊNH DẠY VÀ HỌC THEO PHƯƠNG THỨC TRỰC TUYẾ...   \n",
       "1  QUY CHẾ Văn bằng, chứng chỉ của Trường Đại học...   \n",
       "2  QUY CHẾ ĐÀO TẠO THEO HỌC CHẾ TÍN CHỈ CHO HỆ ĐẠ...   \n",
       "\n",
       "                                            question  \n",
       "0  Học liệu điện tử sau khi được thông qua bởi ĐV...  \n",
       "1  Có thể nộp bản sao giấy khai sinh cho hồ sơ đề...  \n",
       "2  Quy định về điểm M trong trường hợp sinh viên ...  "
      ]
     },
     "execution_count": 48,
     "metadata": {},
     "output_type": "execute_result"
    }
   ],
   "source": [
    "df_test.drop(columns=test_columns_to_drop, inplace=True)\n",
    "print(df_test.shape)\n",
    "df_test.head(3)"
   ]
  },
  {
   "cell_type": "code",
   "execution_count": 50,
   "metadata": {},
   "outputs": [
    {
     "data": {
      "text/html": [
       "<div>\n",
       "<style scoped>\n",
       "    .dataframe tbody tr th:only-of-type {\n",
       "        vertical-align: middle;\n",
       "    }\n",
       "\n",
       "    .dataframe tbody tr th {\n",
       "        vertical-align: top;\n",
       "    }\n",
       "\n",
       "    .dataframe thead th {\n",
       "        text-align: right;\n",
       "    }\n",
       "</style>\n",
       "<table border=\"1\" class=\"dataframe\">\n",
       "  <thead>\n",
       "    <tr style=\"text-align: right;\">\n",
       "      <th></th>\n",
       "      <th>context</th>\n",
       "      <th>article</th>\n",
       "      <th>document</th>\n",
       "      <th>question</th>\n",
       "    </tr>\n",
       "  </thead>\n",
       "  <tbody>\n",
       "    <tr>\n",
       "      <th>0</th>\n",
       "      <td>Điều 8 . Xây_dựng , thẩm_định học liệu điện_tử...</td>\n",
       "      <td>Điều 8 . Xây_dựng , thẩm_định học liệu điện_tử</td>\n",
       "      <td>QUY_ĐỊNH DẠY VÀ HỌC THEO PHƯƠNG_THỨC TRỰC_TUYẾ...</td>\n",
       "      <td>Học_liệu điện_tử sau khi được thông_qua bởi ĐV...</td>\n",
       "    </tr>\n",
       "    <tr>\n",
       "      <th>1</th>\n",
       "      <td>Điều 20 . Hồ_sơ , trình_tự , thủ_tục chỉnh_sửa...</td>\n",
       "      <td>Điều 20 . Hồ_sơ , trình_tự , thủ_tục chỉnh_sửa...</td>\n",
       "      <td>QUY_CHẾ Văn_bằng , chứng_chỉ của Trường Đại_họ...</td>\n",
       "      <td>Có_thể nộp bản_sao giấy khai_sinh cho hồ_sơ đề...</td>\n",
       "    </tr>\n",
       "    <tr>\n",
       "      <th>2</th>\n",
       "      <td>Điều 23 . Điểm_Miễn   1 . Điểm_BL   - Sinh_viê...</td>\n",
       "      <td>Điều 23 . Điểm_Miễn</td>\n",
       "      <td>QUY_CHẾ ĐÀO_TẠO THEO HỌC CHẾ TÍN_CHỈ CHO HỆ ĐẠ...</td>\n",
       "      <td>Quy_định về điểm M trong trường_hợp sinh_viên ...</td>\n",
       "    </tr>\n",
       "  </tbody>\n",
       "</table>\n",
       "</div>"
      ],
      "text/plain": [
       "                                             context  \\\n",
       "0  Điều 8 . Xây_dựng , thẩm_định học liệu điện_tử...   \n",
       "1  Điều 20 . Hồ_sơ , trình_tự , thủ_tục chỉnh_sửa...   \n",
       "2  Điều 23 . Điểm_Miễn   1 . Điểm_BL   - Sinh_viê...   \n",
       "\n",
       "                                             article  \\\n",
       "0     Điều 8 . Xây_dựng , thẩm_định học liệu điện_tử   \n",
       "1  Điều 20 . Hồ_sơ , trình_tự , thủ_tục chỉnh_sửa...   \n",
       "2                                Điều 23 . Điểm_Miễn   \n",
       "\n",
       "                                            document  \\\n",
       "0  QUY_ĐỊNH DẠY VÀ HỌC THEO PHƯƠNG_THỨC TRỰC_TUYẾ...   \n",
       "1  QUY_CHẾ Văn_bằng , chứng_chỉ của Trường Đại_họ...   \n",
       "2  QUY_CHẾ ĐÀO_TẠO THEO HỌC CHẾ TÍN_CHỈ CHO HỆ ĐẠ...   \n",
       "\n",
       "                                            question  \n",
       "0  Học_liệu điện_tử sau khi được thông_qua bởi ĐV...  \n",
       "1  Có_thể nộp bản_sao giấy khai_sinh cho hồ_sơ đề...  \n",
       "2  Quy_định về điểm M trong trường_hợp sinh_viên ...  "
      ]
     },
     "execution_count": 50,
     "metadata": {},
     "output_type": "execute_result"
    }
   ],
   "source": [
    "df_test = df_test.map(preprocess_with_segmentation)\n",
    "df_test.head(3)"
   ]
  },
  {
   "cell_type": "code",
   "execution_count": 52,
   "metadata": {},
   "outputs": [],
   "source": [
    "os.makedirs('./corpus', exist_ok=True)\n",
    "df_test.to_csv('corpus/corpus-question-test-map-seg.csv', index=False)"
   ]
  },
  {
   "cell_type": "markdown",
   "metadata": {},
   "source": [
    "## no word-segmented format "
   ]
  },
  {
   "cell_type": "code",
   "execution_count": 12,
   "metadata": {},
   "outputs": [
    {
     "name": "stdout",
     "output_type": "stream",
     "text": [
      "corpus shape: (9758, 8)\n"
     ]
    },
    {
     "data": {
      "text/html": [
       "<div>\n",
       "<style scoped>\n",
       "    .dataframe tbody tr th:only-of-type {\n",
       "        vertical-align: middle;\n",
       "    }\n",
       "\n",
       "    .dataframe tbody tr th {\n",
       "        vertical-align: top;\n",
       "    }\n",
       "\n",
       "    .dataframe thead th {\n",
       "        text-align: right;\n",
       "    }\n",
       "</style>\n",
       "<table border=\"1\" class=\"dataframe\">\n",
       "  <thead>\n",
       "    <tr style=\"text-align: right;\">\n",
       "      <th></th>\n",
       "      <th>index</th>\n",
       "      <th>context</th>\n",
       "      <th>article</th>\n",
       "      <th>document</th>\n",
       "      <th>question</th>\n",
       "      <th>extractive answer</th>\n",
       "      <th>abstractive answer</th>\n",
       "      <th>yes/no</th>\n",
       "    </tr>\n",
       "  </thead>\n",
       "  <tbody>\n",
       "    <tr>\n",
       "      <th>0</th>\n",
       "      <td>8276</td>\n",
       "      <td>Điều  9.\\tTuyển bổ sung và loại ra khỏi chương...</td>\n",
       "      <td>Điều 9. Tuyển bổ sung và loại ra khỏi chương t...</td>\n",
       "      <td>QUY ĐỊNH ĐÀO TẠO CHƯƠNG TRÌNH TÀI NĂNG</td>\n",
       "      <td>Sinh viên dự bị không trở thành sinh viên chín...</td>\n",
       "      <td>02 học kỳ liên tiếp</td>\n",
       "      <td>Sinh viên dự bị không trở thành sinh viên chín...</td>\n",
       "      <td>NaN</td>\n",
       "    </tr>\n",
       "    <tr>\n",
       "      <th>1</th>\n",
       "      <td>8543</td>\n",
       "      <td>Điều  4.        Kiểm tra xếp lớp đầu khóa cho ...</td>\n",
       "      <td>Điều 4. Kiểm tra xếp lớp đầu khóa cho sinh viê...</td>\n",
       "      <td>QUY ĐỊNH ĐÀO TẠO NGOẠI NGỮ ĐỐI VỚI HỆ ĐẠI HỌC ...</td>\n",
       "      <td>Các mức điểm xếp lớp tiếng Anh được Hiệu trưởn...</td>\n",
       "      <td>theo đề xuất hợp lý của bộ phận chuyên môn</td>\n",
       "      <td>Các mức điểm xếp lớp tiếng Anh được Hiệu trưởn...</td>\n",
       "      <td>NaN</td>\n",
       "    </tr>\n",
       "    <tr>\n",
       "      <th>2</th>\n",
       "      <td>7152</td>\n",
       "      <td>Điều  5.        Chương trình đào tạo\\nCT CLC đ...</td>\n",
       "      <td>Điều 5. Chương trình đào tạo</td>\n",
       "      <td>QUY ĐỊNH ĐÀO TẠO CHƯƠNG TRÌNH CHẤT LƯỢNG CAO</td>\n",
       "      <td>Trình độ tiếng Nhật đạt N mấy mới thì sinh viê...</td>\n",
       "      <td>N3</td>\n",
       "      <td>Sinh viên CT CLC phải đạt tiếng Nhật N3 thì mớ...</td>\n",
       "      <td>NaN</td>\n",
       "    </tr>\n",
       "  </tbody>\n",
       "</table>\n",
       "</div>"
      ],
      "text/plain": [
       "   index                                            context  \\\n",
       "0   8276  Điều  9.\\tTuyển bổ sung và loại ra khỏi chương...   \n",
       "1   8543  Điều  4.        Kiểm tra xếp lớp đầu khóa cho ...   \n",
       "2   7152  Điều  5.        Chương trình đào tạo\\nCT CLC đ...   \n",
       "\n",
       "                                             article  \\\n",
       "0  Điều 9. Tuyển bổ sung và loại ra khỏi chương t...   \n",
       "1  Điều 4. Kiểm tra xếp lớp đầu khóa cho sinh viê...   \n",
       "2                       Điều 5. Chương trình đào tạo   \n",
       "\n",
       "                                            document  \\\n",
       "0             QUY ĐỊNH ĐÀO TẠO CHƯƠNG TRÌNH TÀI NĂNG   \n",
       "1  QUY ĐỊNH ĐÀO TẠO NGOẠI NGỮ ĐỐI VỚI HỆ ĐẠI HỌC ...   \n",
       "2       QUY ĐỊNH ĐÀO TẠO CHƯƠNG TRÌNH CHẤT LƯỢNG CAO   \n",
       "\n",
       "                                            question  \\\n",
       "0  Sinh viên dự bị không trở thành sinh viên chín...   \n",
       "1  Các mức điểm xếp lớp tiếng Anh được Hiệu trưởn...   \n",
       "2  Trình độ tiếng Nhật đạt N mấy mới thì sinh viê...   \n",
       "\n",
       "                            extractive answer  \\\n",
       "0                         02 học kỳ liên tiếp   \n",
       "1  theo đề xuất hợp lý của bộ phận chuyên môn   \n",
       "2                                          N3   \n",
       "\n",
       "                                  abstractive answer  yes/no  \n",
       "0  Sinh viên dự bị không trở thành sinh viên chín...     NaN  \n",
       "1  Các mức điểm xếp lớp tiếng Anh được Hiệu trưởn...     NaN  \n",
       "2  Sinh viên CT CLC phải đạt tiếng Nhật N3 thì mớ...     NaN  "
      ]
     },
     "execution_count": 12,
     "metadata": {},
     "output_type": "execute_result"
    }
   ],
   "source": [
    "df_train = pd.read_csv(\"[R2GQA]-data-full/train.csv\")\n",
    "df_valid = pd.read_csv(\"[R2GQA]-data-full/val.csv\")\n",
    "df_test = pd.read_csv(\"[R2GQA]-data-full/test.csv\")\n",
    "\n",
    "corpus = pd.concat([df_train, df_valid, df_test], axis=0)\n",
    "print('corpus shape:', corpus.shape)\n",
    "corpus.head(3)"
   ]
  },
  {
   "cell_type": "code",
   "execution_count": 13,
   "metadata": {},
   "outputs": [
    {
     "name": "stdout",
     "output_type": "stream",
     "text": [
      "corpus shape: (9758, 3)\n"
     ]
    },
    {
     "data": {
      "text/html": [
       "<div>\n",
       "<style scoped>\n",
       "    .dataframe tbody tr th:only-of-type {\n",
       "        vertical-align: middle;\n",
       "    }\n",
       "\n",
       "    .dataframe tbody tr th {\n",
       "        vertical-align: top;\n",
       "    }\n",
       "\n",
       "    .dataframe thead th {\n",
       "        text-align: right;\n",
       "    }\n",
       "</style>\n",
       "<table border=\"1\" class=\"dataframe\">\n",
       "  <thead>\n",
       "    <tr style=\"text-align: right;\">\n",
       "      <th></th>\n",
       "      <th>context</th>\n",
       "      <th>article</th>\n",
       "      <th>document</th>\n",
       "    </tr>\n",
       "  </thead>\n",
       "  <tbody>\n",
       "    <tr>\n",
       "      <th>0</th>\n",
       "      <td>Điều  9.\\tTuyển bổ sung và loại ra khỏi chương...</td>\n",
       "      <td>Điều 9. Tuyển bổ sung và loại ra khỏi chương t...</td>\n",
       "      <td>QUY ĐỊNH ĐÀO TẠO CHƯƠNG TRÌNH TÀI NĂNG</td>\n",
       "    </tr>\n",
       "    <tr>\n",
       "      <th>1</th>\n",
       "      <td>Điều  4.        Kiểm tra xếp lớp đầu khóa cho ...</td>\n",
       "      <td>Điều 4. Kiểm tra xếp lớp đầu khóa cho sinh viê...</td>\n",
       "      <td>QUY ĐỊNH ĐÀO TẠO NGOẠI NGỮ ĐỐI VỚI HỆ ĐẠI HỌC ...</td>\n",
       "    </tr>\n",
       "    <tr>\n",
       "      <th>2</th>\n",
       "      <td>Điều  5.        Chương trình đào tạo\\nCT CLC đ...</td>\n",
       "      <td>Điều 5. Chương trình đào tạo</td>\n",
       "      <td>QUY ĐỊNH ĐÀO TẠO CHƯƠNG TRÌNH CHẤT LƯỢNG CAO</td>\n",
       "    </tr>\n",
       "  </tbody>\n",
       "</table>\n",
       "</div>"
      ],
      "text/plain": [
       "                                             context  \\\n",
       "0  Điều  9.\\tTuyển bổ sung và loại ra khỏi chương...   \n",
       "1  Điều  4.        Kiểm tra xếp lớp đầu khóa cho ...   \n",
       "2  Điều  5.        Chương trình đào tạo\\nCT CLC đ...   \n",
       "\n",
       "                                             article  \\\n",
       "0  Điều 9. Tuyển bổ sung và loại ra khỏi chương t...   \n",
       "1  Điều 4. Kiểm tra xếp lớp đầu khóa cho sinh viê...   \n",
       "2                       Điều 5. Chương trình đào tạo   \n",
       "\n",
       "                                            document  \n",
       "0             QUY ĐỊNH ĐÀO TẠO CHƯƠNG TRÌNH TÀI NĂNG  \n",
       "1  QUY ĐỊNH ĐÀO TẠO NGOẠI NGỮ ĐỐI VỚI HỆ ĐẠI HỌC ...  \n",
       "2       QUY ĐỊNH ĐÀO TẠO CHƯƠNG TRÌNH CHẤT LƯỢNG CAO  "
      ]
     },
     "execution_count": 13,
     "metadata": {},
     "output_type": "execute_result"
    }
   ],
   "source": [
    "corpus.drop(columns=columns_to_drop, inplace=True)\n",
    "print('corpus shape:', corpus.shape)\n",
    "corpus.head(3)"
   ]
  },
  {
   "cell_type": "code",
   "execution_count": 14,
   "metadata": {},
   "outputs": [
    {
     "name": "stdout",
     "output_type": "stream",
     "text": [
      "corpus shape: (294, 3)\n"
     ]
    }
   ],
   "source": [
    "corpus.drop_duplicates(inplace=True)\n",
    "print('corpus shape:', corpus.shape)"
   ]
  },
  {
   "cell_type": "code",
   "execution_count": 15,
   "metadata": {},
   "outputs": [
    {
     "data": {
      "text/html": [
       "<div>\n",
       "<style scoped>\n",
       "    .dataframe tbody tr th:only-of-type {\n",
       "        vertical-align: middle;\n",
       "    }\n",
       "\n",
       "    .dataframe tbody tr th {\n",
       "        vertical-align: top;\n",
       "    }\n",
       "\n",
       "    .dataframe thead th {\n",
       "        text-align: right;\n",
       "    }\n",
       "</style>\n",
       "<table border=\"1\" class=\"dataframe\">\n",
       "  <thead>\n",
       "    <tr style=\"text-align: right;\">\n",
       "      <th></th>\n",
       "      <th>context</th>\n",
       "      <th>article</th>\n",
       "      <th>document</th>\n",
       "    </tr>\n",
       "  </thead>\n",
       "  <tbody>\n",
       "    <tr>\n",
       "      <th>0</th>\n",
       "      <td>Điều 9. Tuyển bổ sung và loại ra khỏi chương t...</td>\n",
       "      <td>Điều 9. Tuyển bổ sung và loại ra khỏi chương t...</td>\n",
       "      <td>QUY ĐỊNH ĐÀO TẠO CHƯƠNG TRÌNH TÀI NĂNG</td>\n",
       "    </tr>\n",
       "    <tr>\n",
       "      <th>1</th>\n",
       "      <td>Điều 4. Kiểm tra xếp lớp đầu khóa cho sinh viê...</td>\n",
       "      <td>Điều 4. Kiểm tra xếp lớp đầu khóa cho sinh viê...</td>\n",
       "      <td>QUY ĐỊNH ĐÀO TẠO NGOẠI NGỮ ĐỐI VỚI HỆ ĐẠI HỌC ...</td>\n",
       "    </tr>\n",
       "    <tr>\n",
       "      <th>2</th>\n",
       "      <td>Điều 5. Chương trình đào tạo CT CLC được xây d...</td>\n",
       "      <td>Điều 5. Chương trình đào tạo</td>\n",
       "      <td>QUY ĐỊNH ĐÀO TẠO CHƯƠNG TRÌNH CHẤT LƯỢNG CAO</td>\n",
       "    </tr>\n",
       "  </tbody>\n",
       "</table>\n",
       "</div>"
      ],
      "text/plain": [
       "                                             context  \\\n",
       "0  Điều 9. Tuyển bổ sung và loại ra khỏi chương t...   \n",
       "1  Điều 4. Kiểm tra xếp lớp đầu khóa cho sinh viê...   \n",
       "2  Điều 5. Chương trình đào tạo CT CLC được xây d...   \n",
       "\n",
       "                                             article  \\\n",
       "0  Điều 9. Tuyển bổ sung và loại ra khỏi chương t...   \n",
       "1  Điều 4. Kiểm tra xếp lớp đầu khóa cho sinh viê...   \n",
       "2                       Điều 5. Chương trình đào tạo   \n",
       "\n",
       "                                            document  \n",
       "0             QUY ĐỊNH ĐÀO TẠO CHƯƠNG TRÌNH TÀI NĂNG  \n",
       "1  QUY ĐỊNH ĐÀO TẠO NGOẠI NGỮ ĐỐI VỚI HỆ ĐẠI HỌC ...  \n",
       "2       QUY ĐỊNH ĐÀO TẠO CHƯƠNG TRÌNH CHẤT LƯỢNG CAO  "
      ]
     },
     "execution_count": 15,
     "metadata": {},
     "output_type": "execute_result"
    }
   ],
   "source": [
    "corpus = corpus.map(preprocess_no_segmentation)\n",
    "corpus.head(3)"
   ]
  },
  {
   "cell_type": "code",
   "execution_count": 16,
   "metadata": {},
   "outputs": [],
   "source": [
    "os.makedirs('./corpus', exist_ok=True)\n",
    "corpus.to_csv('corpus/corpus.csv', index=False)"
   ]
  },
  {
   "cell_type": "code",
   "execution_count": 19,
   "metadata": {},
   "outputs": [
    {
     "name": "stdout",
     "output_type": "stream",
     "text": [
      "(976, 8)\n"
     ]
    },
    {
     "data": {
      "text/html": [
       "<div>\n",
       "<style scoped>\n",
       "    .dataframe tbody tr th:only-of-type {\n",
       "        vertical-align: middle;\n",
       "    }\n",
       "\n",
       "    .dataframe tbody tr th {\n",
       "        vertical-align: top;\n",
       "    }\n",
       "\n",
       "    .dataframe thead th {\n",
       "        text-align: right;\n",
       "    }\n",
       "</style>\n",
       "<table border=\"1\" class=\"dataframe\">\n",
       "  <thead>\n",
       "    <tr style=\"text-align: right;\">\n",
       "      <th></th>\n",
       "      <th>index</th>\n",
       "      <th>context</th>\n",
       "      <th>article</th>\n",
       "      <th>document</th>\n",
       "      <th>question</th>\n",
       "      <th>extractive answer</th>\n",
       "      <th>abstractive answer</th>\n",
       "      <th>yes/no</th>\n",
       "    </tr>\n",
       "  </thead>\n",
       "  <tbody>\n",
       "    <tr>\n",
       "      <th>0</th>\n",
       "      <td>4206</td>\n",
       "      <td>Điều  8. Xây dựng, thẩm định học liệu điện tử\\...</td>\n",
       "      <td>Điều 8. Xây dựng, thẩm định học liệu điện tử</td>\n",
       "      <td>QUY ĐỊNH DẠY VÀ HỌC THEO PHƯƠNG THỨC TRỰC TUYẾ...</td>\n",
       "      <td>Học liệu điện tử sau khi được thông qua bởi ĐV...</td>\n",
       "      <td>Trường có thể tổ chức thẩm định lại trong trườ...</td>\n",
       "      <td>Trường có thể tổ chức thẩm định lại trong trườ...</td>\n",
       "      <td>1.0</td>\n",
       "    </tr>\n",
       "    <tr>\n",
       "      <th>1</th>\n",
       "      <td>960</td>\n",
       "      <td>Điều  20. Hồ sơ, trình tự, thủ tục chỉnh sửa n...</td>\n",
       "      <td>Điều 20. Hồ sơ, trình tự, thủ tục chỉnh sửa nộ...</td>\n",
       "      <td>QUY CHẾ Văn bằng, chứng chỉ của Trường Đại học...</td>\n",
       "      <td>Có thể nộp bản sao giấy khai sinh cho hồ sơ đề...</td>\n",
       "      <td>Các tài liệu trong hồ sơ đề nghị chỉnh sửa văn...</td>\n",
       "      <td>Việc nộp bản sao giấy khai sinh cho hồ sơ đề n...</td>\n",
       "      <td>NaN</td>\n",
       "    </tr>\n",
       "    <tr>\n",
       "      <th>2</th>\n",
       "      <td>2151</td>\n",
       "      <td>Điều  23. Điểm Miễn\\n1.  Điểm BL\\n-        Sin...</td>\n",
       "      <td>Điều 23. Điểm Miễn</td>\n",
       "      <td>QUY CHẾ ĐÀO TẠO THEO HỌC CHẾ TÍN CHỈ CHO HỆ ĐẠ...</td>\n",
       "      <td>Quy định về điểm M trong trường hợp sinh viên ...</td>\n",
       "      <td>Nếu trùng thời gian thi cuối kỳ: sinh viên đượ...</td>\n",
       "      <td>Quy định về điểm M trong trường hợp sinh viên ...</td>\n",
       "      <td>NaN</td>\n",
       "    </tr>\n",
       "  </tbody>\n",
       "</table>\n",
       "</div>"
      ],
      "text/plain": [
       "   index                                            context  \\\n",
       "0   4206  Điều  8. Xây dựng, thẩm định học liệu điện tử\\...   \n",
       "1    960  Điều  20. Hồ sơ, trình tự, thủ tục chỉnh sửa n...   \n",
       "2   2151  Điều  23. Điểm Miễn\\n1.  Điểm BL\\n-        Sin...   \n",
       "\n",
       "                                             article  \\\n",
       "0       Điều 8. Xây dựng, thẩm định học liệu điện tử   \n",
       "1  Điều 20. Hồ sơ, trình tự, thủ tục chỉnh sửa nộ...   \n",
       "2                                 Điều 23. Điểm Miễn   \n",
       "\n",
       "                                            document  \\\n",
       "0  QUY ĐỊNH DẠY VÀ HỌC THEO PHƯƠNG THỨC TRỰC TUYẾ...   \n",
       "1  QUY CHẾ Văn bằng, chứng chỉ của Trường Đại học...   \n",
       "2  QUY CHẾ ĐÀO TẠO THEO HỌC CHẾ TÍN CHỈ CHO HỆ ĐẠ...   \n",
       "\n",
       "                                            question  \\\n",
       "0  Học liệu điện tử sau khi được thông qua bởi ĐV...   \n",
       "1  Có thể nộp bản sao giấy khai sinh cho hồ sơ đề...   \n",
       "2  Quy định về điểm M trong trường hợp sinh viên ...   \n",
       "\n",
       "                                   extractive answer  \\\n",
       "0  Trường có thể tổ chức thẩm định lại trong trườ...   \n",
       "1  Các tài liệu trong hồ sơ đề nghị chỉnh sửa văn...   \n",
       "2  Nếu trùng thời gian thi cuối kỳ: sinh viên đượ...   \n",
       "\n",
       "                                  abstractive answer  yes/no  \n",
       "0  Trường có thể tổ chức thẩm định lại trong trườ...     1.0  \n",
       "1  Việc nộp bản sao giấy khai sinh cho hồ sơ đề n...     NaN  \n",
       "2  Quy định về điểm M trong trường hợp sinh viên ...     NaN  "
      ]
     },
     "execution_count": 19,
     "metadata": {},
     "output_type": "execute_result"
    }
   ],
   "source": [
    "df_test = pd.read_csv(\"[R2GQA]-data-full/test.csv\")\n",
    "print(df_test.shape)\n",
    "df_test.head(3)"
   ]
  },
  {
   "cell_type": "code",
   "execution_count": 20,
   "metadata": {},
   "outputs": [
    {
     "name": "stdout",
     "output_type": "stream",
     "text": [
      "(976, 4)\n"
     ]
    },
    {
     "data": {
      "text/html": [
       "<div>\n",
       "<style scoped>\n",
       "    .dataframe tbody tr th:only-of-type {\n",
       "        vertical-align: middle;\n",
       "    }\n",
       "\n",
       "    .dataframe tbody tr th {\n",
       "        vertical-align: top;\n",
       "    }\n",
       "\n",
       "    .dataframe thead th {\n",
       "        text-align: right;\n",
       "    }\n",
       "</style>\n",
       "<table border=\"1\" class=\"dataframe\">\n",
       "  <thead>\n",
       "    <tr style=\"text-align: right;\">\n",
       "      <th></th>\n",
       "      <th>context</th>\n",
       "      <th>article</th>\n",
       "      <th>document</th>\n",
       "      <th>question</th>\n",
       "    </tr>\n",
       "  </thead>\n",
       "  <tbody>\n",
       "    <tr>\n",
       "      <th>0</th>\n",
       "      <td>Điều  8. Xây dựng, thẩm định học liệu điện tử\\...</td>\n",
       "      <td>Điều 8. Xây dựng, thẩm định học liệu điện tử</td>\n",
       "      <td>QUY ĐỊNH DẠY VÀ HỌC THEO PHƯƠNG THỨC TRỰC TUYẾ...</td>\n",
       "      <td>Học liệu điện tử sau khi được thông qua bởi ĐV...</td>\n",
       "    </tr>\n",
       "    <tr>\n",
       "      <th>1</th>\n",
       "      <td>Điều  20. Hồ sơ, trình tự, thủ tục chỉnh sửa n...</td>\n",
       "      <td>Điều 20. Hồ sơ, trình tự, thủ tục chỉnh sửa nộ...</td>\n",
       "      <td>QUY CHẾ Văn bằng, chứng chỉ của Trường Đại học...</td>\n",
       "      <td>Có thể nộp bản sao giấy khai sinh cho hồ sơ đề...</td>\n",
       "    </tr>\n",
       "    <tr>\n",
       "      <th>2</th>\n",
       "      <td>Điều  23. Điểm Miễn\\n1.  Điểm BL\\n-        Sin...</td>\n",
       "      <td>Điều 23. Điểm Miễn</td>\n",
       "      <td>QUY CHẾ ĐÀO TẠO THEO HỌC CHẾ TÍN CHỈ CHO HỆ ĐẠ...</td>\n",
       "      <td>Quy định về điểm M trong trường hợp sinh viên ...</td>\n",
       "    </tr>\n",
       "  </tbody>\n",
       "</table>\n",
       "</div>"
      ],
      "text/plain": [
       "                                             context  \\\n",
       "0  Điều  8. Xây dựng, thẩm định học liệu điện tử\\...   \n",
       "1  Điều  20. Hồ sơ, trình tự, thủ tục chỉnh sửa n...   \n",
       "2  Điều  23. Điểm Miễn\\n1.  Điểm BL\\n-        Sin...   \n",
       "\n",
       "                                             article  \\\n",
       "0       Điều 8. Xây dựng, thẩm định học liệu điện tử   \n",
       "1  Điều 20. Hồ sơ, trình tự, thủ tục chỉnh sửa nộ...   \n",
       "2                                 Điều 23. Điểm Miễn   \n",
       "\n",
       "                                            document  \\\n",
       "0  QUY ĐỊNH DẠY VÀ HỌC THEO PHƯƠNG THỨC TRỰC TUYẾ...   \n",
       "1  QUY CHẾ Văn bằng, chứng chỉ của Trường Đại học...   \n",
       "2  QUY CHẾ ĐÀO TẠO THEO HỌC CHẾ TÍN CHỈ CHO HỆ ĐẠ...   \n",
       "\n",
       "                                            question  \n",
       "0  Học liệu điện tử sau khi được thông qua bởi ĐV...  \n",
       "1  Có thể nộp bản sao giấy khai sinh cho hồ sơ đề...  \n",
       "2  Quy định về điểm M trong trường hợp sinh viên ...  "
      ]
     },
     "execution_count": 20,
     "metadata": {},
     "output_type": "execute_result"
    }
   ],
   "source": [
    "df_test.drop(columns=test_columns_to_drop, inplace=True)\n",
    "print(df_test.shape)\n",
    "df_test.head(3)"
   ]
  },
  {
   "cell_type": "code",
   "execution_count": 21,
   "metadata": {},
   "outputs": [
    {
     "data": {
      "text/html": [
       "<div>\n",
       "<style scoped>\n",
       "    .dataframe tbody tr th:only-of-type {\n",
       "        vertical-align: middle;\n",
       "    }\n",
       "\n",
       "    .dataframe tbody tr th {\n",
       "        vertical-align: top;\n",
       "    }\n",
       "\n",
       "    .dataframe thead th {\n",
       "        text-align: right;\n",
       "    }\n",
       "</style>\n",
       "<table border=\"1\" class=\"dataframe\">\n",
       "  <thead>\n",
       "    <tr style=\"text-align: right;\">\n",
       "      <th></th>\n",
       "      <th>context</th>\n",
       "      <th>article</th>\n",
       "      <th>document</th>\n",
       "      <th>question</th>\n",
       "    </tr>\n",
       "  </thead>\n",
       "  <tbody>\n",
       "    <tr>\n",
       "      <th>0</th>\n",
       "      <td>Điều 8. Xây dựng, thẩm định học liệu điện tử 1...</td>\n",
       "      <td>Điều 8. Xây dựng, thẩm định học liệu điện tử</td>\n",
       "      <td>QUY ĐỊNH DẠY VÀ HỌC THEO PHƯƠNG THỨC TRỰC TUYẾ...</td>\n",
       "      <td>Học liệu điện tử sau khi được thông qua bởi ĐV...</td>\n",
       "    </tr>\n",
       "    <tr>\n",
       "      <th>1</th>\n",
       "      <td>Điều 20. Hồ sơ, trình tự, thủ tục chỉnh sửa nộ...</td>\n",
       "      <td>Điều 20. Hồ sơ, trình tự, thủ tục chỉnh sửa nộ...</td>\n",
       "      <td>QUY CHẾ Văn bằng, chứng chỉ của Trường Đại học...</td>\n",
       "      <td>Có thể nộp bản sao giấy khai sinh cho hồ sơ đề...</td>\n",
       "    </tr>\n",
       "    <tr>\n",
       "      <th>2</th>\n",
       "      <td>Điều 23. Điểm Miễn 1. Điểm BL - Sinh viên đã t...</td>\n",
       "      <td>Điều 23. Điểm Miễn</td>\n",
       "      <td>QUY CHẾ ĐÀO TẠO THEO HỌC CHẾ TÍN CHỈ CHO HỆ ĐẠ...</td>\n",
       "      <td>Quy định về điểm M trong trường hợp sinh viên ...</td>\n",
       "    </tr>\n",
       "  </tbody>\n",
       "</table>\n",
       "</div>"
      ],
      "text/plain": [
       "                                             context  \\\n",
       "0  Điều 8. Xây dựng, thẩm định học liệu điện tử 1...   \n",
       "1  Điều 20. Hồ sơ, trình tự, thủ tục chỉnh sửa nộ...   \n",
       "2  Điều 23. Điểm Miễn 1. Điểm BL - Sinh viên đã t...   \n",
       "\n",
       "                                             article  \\\n",
       "0       Điều 8. Xây dựng, thẩm định học liệu điện tử   \n",
       "1  Điều 20. Hồ sơ, trình tự, thủ tục chỉnh sửa nộ...   \n",
       "2                                 Điều 23. Điểm Miễn   \n",
       "\n",
       "                                            document  \\\n",
       "0  QUY ĐỊNH DẠY VÀ HỌC THEO PHƯƠNG THỨC TRỰC TUYẾ...   \n",
       "1  QUY CHẾ Văn bằng, chứng chỉ của Trường Đại học...   \n",
       "2  QUY CHẾ ĐÀO TẠO THEO HỌC CHẾ TÍN CHỈ CHO HỆ ĐẠ...   \n",
       "\n",
       "                                            question  \n",
       "0  Học liệu điện tử sau khi được thông qua bởi ĐV...  \n",
       "1  Có thể nộp bản sao giấy khai sinh cho hồ sơ đề...  \n",
       "2  Quy định về điểm M trong trường hợp sinh viên ...  "
      ]
     },
     "execution_count": 21,
     "metadata": {},
     "output_type": "execute_result"
    }
   ],
   "source": [
    "df_test = df_test.map(preprocess_no_segmentation)\n",
    "df_test.head(3)"
   ]
  },
  {
   "cell_type": "code",
   "execution_count": 22,
   "metadata": {},
   "outputs": [],
   "source": [
    "os.makedirs('./corpus', exist_ok=True)\n",
    "df_test.to_csv('corpus/corpus-question-test-map.csv', index=False)"
   ]
  },
  {
   "cell_type": "code",
   "execution_count": null,
   "metadata": {},
   "outputs": [],
   "source": []
  }
 ],
 "metadata": {
  "kernelspec": {
   "display_name": "Python 3",
   "language": "python",
   "name": "python3"
  },
  "language_info": {
   "codemirror_mode": {
    "name": "ipython",
    "version": 3
   },
   "file_extension": ".py",
   "mimetype": "text/x-python",
   "name": "python",
   "nbconvert_exporter": "python",
   "pygments_lexer": "ipython3",
   "version": "3.12.3"
  }
 },
 "nbformat": 4,
 "nbformat_minor": 2
}
